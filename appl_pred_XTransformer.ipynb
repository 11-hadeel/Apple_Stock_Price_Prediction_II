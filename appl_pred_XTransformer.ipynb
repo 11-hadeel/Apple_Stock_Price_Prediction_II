{
  "cells": [
    {
      "cell_type": "markdown",
      "metadata": {
        "id": "view-in-github",
        "colab_type": "text"
      },
      "source": [
        "<a href=\"https://colab.research.google.com/github/jujuGthb/Apple_Stock_Price_Prediction_II/blob/main/appl_pred_XTransformer.ipynb\" target=\"_parent\"><img src=\"https://colab.research.google.com/assets/colab-badge.svg\" alt=\"Open In Colab\"/></a>"
      ]
    },
    {
      "cell_type": "code",
      "execution_count": 1,
      "metadata": {
        "colab": {
          "base_uri": "https://localhost:8080/"
        },
        "id": "nKfmIx_XSjnc",
        "outputId": "b596b08a-03f7-4056-fcaa-739fa1461001"
      },
      "outputs": [
        {
          "output_type": "stream",
          "name": "stdout",
          "text": [
            "Mounted at /content/drive\n"
          ]
        }
      ],
      "source": [
        "from google.colab import drive\n",
        "drive.mount('/content/drive')"
      ]
    },
    {
      "cell_type": "code",
      "execution_count": 2,
      "metadata": {
        "id": "Uyvc3P7CSxQR"
      },
      "outputs": [],
      "source": [
        "\n",
        "\n",
        "import os\n",
        "project_dir = os.path.join('/content/drive/My Drive/Colab Notebooks')\n",
        "model_path = os.path.join(project_dir, 'aapl_stock_prediction_informer.keras')\n"
      ]
    },
    {
      "cell_type": "code",
      "execution_count": null,
      "metadata": {
        "id": "sdt8kiq7REcA"
      },
      "outputs": [],
      "source": [
        "!pip install --upgrade yfinance\n",
        "!pip install seaborn\n",
        "!pip install matplotlib\n",
        "!pip install scikit-learn"
      ]
    },
    {
      "cell_type": "code",
      "execution_count": 4,
      "metadata": {
        "id": "YxMqCQowRjrF"
      },
      "outputs": [],
      "source": [
        "import yfinance as yf\n",
        "import time\n",
        "import pandas as pd\n",
        "import seaborn as sns\n",
        "import matplotlib.pyplot as plt\n",
        "from sklearn.preprocessing import StandardScaler"
      ]
    },
    {
      "cell_type": "code",
      "execution_count": 5,
      "metadata": {
        "colab": {
          "base_uri": "https://localhost:8080/"
        },
        "id": "8vZpscl6R4-6",
        "outputId": "42df96e3-3e90-41bd-a2dc-7dfa11098aa1"
      },
      "outputs": [
        {
          "output_type": "stream",
          "name": "stderr",
          "text": [
            "\r[*********************100%***********************]  1 of 1 completed"
          ]
        },
        {
          "output_type": "stream",
          "name": "stdout",
          "text": [
            "Download successful!\n",
            "Number of records downloaded: 5033\n"
          ]
        },
        {
          "output_type": "stream",
          "name": "stderr",
          "text": [
            "\n"
          ]
        }
      ],
      "source": [
        "def download_data_with_retry(ticker, start, end, interval, max_retries=5, delay=5):\n",
        "    for attempt in range(max_retries):\n",
        "        try:\n",
        "            data = yf.download(ticker, start=start, end=end, interval=interval, auto_adjust=False)\n",
        "\n",
        "\n",
        "            print(\"Download successful!\")\n",
        "            return data\n",
        "        except Exception as e:\n",
        "            print(f\"Attempt {attempt + 1} failed: {e}\")\n",
        "            time.sleep(delay)\n",
        "    print(\"All retry attempts failed.\")\n",
        "    return None\n",
        "\n",
        "# Defining parameters\n",
        "ticker = 'AAPL'\n",
        "start_date = '2004-01-01'\n",
        "end_date = '2024-01-01'\n",
        "interval = '1d'\n",
        "\n",
        "# Downloading data\n",
        "data = download_data_with_retry(ticker, start_date, end_date, interval)\n",
        "\n",
        "\n",
        "if data is not None:\n",
        "    print(f\"Number of records downloaded: {len(data)}\")\n",
        "else:\n",
        "    print(\"Data download failed.\")"
      ]
    },
    {
      "cell_type": "code",
      "execution_count": null,
      "metadata": {
        "id": "Hbrk8Gf_fWd-"
      },
      "outputs": [],
      "source": [
        "data.head(5)"
      ]
    },
    {
      "cell_type": "code",
      "execution_count": 6,
      "metadata": {
        "id": "Bn4wFEmfSH_y"
      },
      "outputs": [],
      "source": [
        "# Checking  MultiIndex columns\n",
        "if isinstance(data.columns, pd.MultiIndex):\n",
        "\n",
        "    data.columns = data.columns.droplevel(0)\n",
        "\n",
        "data.columns = ['adj Close', 'Close', 'High', 'Low', 'Open', 'Volume']"
      ]
    },
    {
      "cell_type": "code",
      "execution_count": null,
      "metadata": {
        "id": "uU53mzxtSOxJ"
      },
      "outputs": [],
      "source": [
        "data.columns"
      ]
    },
    {
      "cell_type": "code",
      "execution_count": 7,
      "metadata": {
        "id": "sY7qps-DSW4J",
        "colab": {
          "base_uri": "https://localhost:8080/",
          "height": 237
        },
        "outputId": "d1f310f1-5691-407b-895c-8367f12d64ee"
      },
      "outputs": [
        {
          "output_type": "execute_result",
          "data": {
            "text/plain": [
              "            adj Close  Close  High   Low  Open     Volume\n",
              "Date                                                     \n",
              "2004-01-02       0.32   0.38  0.39  0.38  0.38  144642400\n",
              "2004-01-05       0.33   0.40  0.40  0.38  0.38  395018400\n",
              "2004-01-06       0.33   0.39  0.40  0.39  0.40  509348000\n",
              "2004-01-07       0.34   0.40  0.41  0.39  0.39  586874400\n",
              "2004-01-08       0.35   0.42  0.42  0.40  0.41  460303200"
            ],
            "text/html": [
              "\n",
              "  <div id=\"df-4cf3e979-1417-432b-b106-6615edd0e593\" class=\"colab-df-container\">\n",
              "    <div>\n",
              "<style scoped>\n",
              "    .dataframe tbody tr th:only-of-type {\n",
              "        vertical-align: middle;\n",
              "    }\n",
              "\n",
              "    .dataframe tbody tr th {\n",
              "        vertical-align: top;\n",
              "    }\n",
              "\n",
              "    .dataframe thead th {\n",
              "        text-align: right;\n",
              "    }\n",
              "</style>\n",
              "<table border=\"1\" class=\"dataframe\">\n",
              "  <thead>\n",
              "    <tr style=\"text-align: right;\">\n",
              "      <th></th>\n",
              "      <th>adj Close</th>\n",
              "      <th>Close</th>\n",
              "      <th>High</th>\n",
              "      <th>Low</th>\n",
              "      <th>Open</th>\n",
              "      <th>Volume</th>\n",
              "    </tr>\n",
              "    <tr>\n",
              "      <th>Date</th>\n",
              "      <th></th>\n",
              "      <th></th>\n",
              "      <th></th>\n",
              "      <th></th>\n",
              "      <th></th>\n",
              "      <th></th>\n",
              "    </tr>\n",
              "  </thead>\n",
              "  <tbody>\n",
              "    <tr>\n",
              "      <th>2004-01-02</th>\n",
              "      <td>0.32</td>\n",
              "      <td>0.38</td>\n",
              "      <td>0.39</td>\n",
              "      <td>0.38</td>\n",
              "      <td>0.38</td>\n",
              "      <td>144642400</td>\n",
              "    </tr>\n",
              "    <tr>\n",
              "      <th>2004-01-05</th>\n",
              "      <td>0.33</td>\n",
              "      <td>0.40</td>\n",
              "      <td>0.40</td>\n",
              "      <td>0.38</td>\n",
              "      <td>0.38</td>\n",
              "      <td>395018400</td>\n",
              "    </tr>\n",
              "    <tr>\n",
              "      <th>2004-01-06</th>\n",
              "      <td>0.33</td>\n",
              "      <td>0.39</td>\n",
              "      <td>0.40</td>\n",
              "      <td>0.39</td>\n",
              "      <td>0.40</td>\n",
              "      <td>509348000</td>\n",
              "    </tr>\n",
              "    <tr>\n",
              "      <th>2004-01-07</th>\n",
              "      <td>0.34</td>\n",
              "      <td>0.40</td>\n",
              "      <td>0.41</td>\n",
              "      <td>0.39</td>\n",
              "      <td>0.39</td>\n",
              "      <td>586874400</td>\n",
              "    </tr>\n",
              "    <tr>\n",
              "      <th>2004-01-08</th>\n",
              "      <td>0.35</td>\n",
              "      <td>0.42</td>\n",
              "      <td>0.42</td>\n",
              "      <td>0.40</td>\n",
              "      <td>0.41</td>\n",
              "      <td>460303200</td>\n",
              "    </tr>\n",
              "  </tbody>\n",
              "</table>\n",
              "</div>\n",
              "    <div class=\"colab-df-buttons\">\n",
              "\n",
              "  <div class=\"colab-df-container\">\n",
              "    <button class=\"colab-df-convert\" onclick=\"convertToInteractive('df-4cf3e979-1417-432b-b106-6615edd0e593')\"\n",
              "            title=\"Convert this dataframe to an interactive table.\"\n",
              "            style=\"display:none;\">\n",
              "\n",
              "  <svg xmlns=\"http://www.w3.org/2000/svg\" height=\"24px\" viewBox=\"0 -960 960 960\">\n",
              "    <path d=\"M120-120v-720h720v720H120Zm60-500h600v-160H180v160Zm220 220h160v-160H400v160Zm0 220h160v-160H400v160ZM180-400h160v-160H180v160Zm440 0h160v-160H620v160ZM180-180h160v-160H180v160Zm440 0h160v-160H620v160Z\"/>\n",
              "  </svg>\n",
              "    </button>\n",
              "\n",
              "  <style>\n",
              "    .colab-df-container {\n",
              "      display:flex;\n",
              "      gap: 12px;\n",
              "    }\n",
              "\n",
              "    .colab-df-convert {\n",
              "      background-color: #E8F0FE;\n",
              "      border: none;\n",
              "      border-radius: 50%;\n",
              "      cursor: pointer;\n",
              "      display: none;\n",
              "      fill: #1967D2;\n",
              "      height: 32px;\n",
              "      padding: 0 0 0 0;\n",
              "      width: 32px;\n",
              "    }\n",
              "\n",
              "    .colab-df-convert:hover {\n",
              "      background-color: #E2EBFA;\n",
              "      box-shadow: 0px 1px 2px rgba(60, 64, 67, 0.3), 0px 1px 3px 1px rgba(60, 64, 67, 0.15);\n",
              "      fill: #174EA6;\n",
              "    }\n",
              "\n",
              "    .colab-df-buttons div {\n",
              "      margin-bottom: 4px;\n",
              "    }\n",
              "\n",
              "    [theme=dark] .colab-df-convert {\n",
              "      background-color: #3B4455;\n",
              "      fill: #D2E3FC;\n",
              "    }\n",
              "\n",
              "    [theme=dark] .colab-df-convert:hover {\n",
              "      background-color: #434B5C;\n",
              "      box-shadow: 0px 1px 3px 1px rgba(0, 0, 0, 0.15);\n",
              "      filter: drop-shadow(0px 1px 2px rgba(0, 0, 0, 0.3));\n",
              "      fill: #FFFFFF;\n",
              "    }\n",
              "  </style>\n",
              "\n",
              "    <script>\n",
              "      const buttonEl =\n",
              "        document.querySelector('#df-4cf3e979-1417-432b-b106-6615edd0e593 button.colab-df-convert');\n",
              "      buttonEl.style.display =\n",
              "        google.colab.kernel.accessAllowed ? 'block' : 'none';\n",
              "\n",
              "      async function convertToInteractive(key) {\n",
              "        const element = document.querySelector('#df-4cf3e979-1417-432b-b106-6615edd0e593');\n",
              "        const dataTable =\n",
              "          await google.colab.kernel.invokeFunction('convertToInteractive',\n",
              "                                                    [key], {});\n",
              "        if (!dataTable) return;\n",
              "\n",
              "        const docLinkHtml = 'Like what you see? Visit the ' +\n",
              "          '<a target=\"_blank\" href=https://colab.research.google.com/notebooks/data_table.ipynb>data table notebook</a>'\n",
              "          + ' to learn more about interactive tables.';\n",
              "        element.innerHTML = '';\n",
              "        dataTable['output_type'] = 'display_data';\n",
              "        await google.colab.output.renderOutput(dataTable, element);\n",
              "        const docLink = document.createElement('div');\n",
              "        docLink.innerHTML = docLinkHtml;\n",
              "        element.appendChild(docLink);\n",
              "      }\n",
              "    </script>\n",
              "  </div>\n",
              "\n",
              "\n",
              "<div id=\"df-c54d8aa5-f3d5-4c17-93ce-506ffe54985f\">\n",
              "  <button class=\"colab-df-quickchart\" onclick=\"quickchart('df-c54d8aa5-f3d5-4c17-93ce-506ffe54985f')\"\n",
              "            title=\"Suggest charts\"\n",
              "            style=\"display:none;\">\n",
              "\n",
              "<svg xmlns=\"http://www.w3.org/2000/svg\" height=\"24px\"viewBox=\"0 0 24 24\"\n",
              "     width=\"24px\">\n",
              "    <g>\n",
              "        <path d=\"M19 3H5c-1.1 0-2 .9-2 2v14c0 1.1.9 2 2 2h14c1.1 0 2-.9 2-2V5c0-1.1-.9-2-2-2zM9 17H7v-7h2v7zm4 0h-2V7h2v10zm4 0h-2v-4h2v4z\"/>\n",
              "    </g>\n",
              "</svg>\n",
              "  </button>\n",
              "\n",
              "<style>\n",
              "  .colab-df-quickchart {\n",
              "      --bg-color: #E8F0FE;\n",
              "      --fill-color: #1967D2;\n",
              "      --hover-bg-color: #E2EBFA;\n",
              "      --hover-fill-color: #174EA6;\n",
              "      --disabled-fill-color: #AAA;\n",
              "      --disabled-bg-color: #DDD;\n",
              "  }\n",
              "\n",
              "  [theme=dark] .colab-df-quickchart {\n",
              "      --bg-color: #3B4455;\n",
              "      --fill-color: #D2E3FC;\n",
              "      --hover-bg-color: #434B5C;\n",
              "      --hover-fill-color: #FFFFFF;\n",
              "      --disabled-bg-color: #3B4455;\n",
              "      --disabled-fill-color: #666;\n",
              "  }\n",
              "\n",
              "  .colab-df-quickchart {\n",
              "    background-color: var(--bg-color);\n",
              "    border: none;\n",
              "    border-radius: 50%;\n",
              "    cursor: pointer;\n",
              "    display: none;\n",
              "    fill: var(--fill-color);\n",
              "    height: 32px;\n",
              "    padding: 0;\n",
              "    width: 32px;\n",
              "  }\n",
              "\n",
              "  .colab-df-quickchart:hover {\n",
              "    background-color: var(--hover-bg-color);\n",
              "    box-shadow: 0 1px 2px rgba(60, 64, 67, 0.3), 0 1px 3px 1px rgba(60, 64, 67, 0.15);\n",
              "    fill: var(--button-hover-fill-color);\n",
              "  }\n",
              "\n",
              "  .colab-df-quickchart-complete:disabled,\n",
              "  .colab-df-quickchart-complete:disabled:hover {\n",
              "    background-color: var(--disabled-bg-color);\n",
              "    fill: var(--disabled-fill-color);\n",
              "    box-shadow: none;\n",
              "  }\n",
              "\n",
              "  .colab-df-spinner {\n",
              "    border: 2px solid var(--fill-color);\n",
              "    border-color: transparent;\n",
              "    border-bottom-color: var(--fill-color);\n",
              "    animation:\n",
              "      spin 1s steps(1) infinite;\n",
              "  }\n",
              "\n",
              "  @keyframes spin {\n",
              "    0% {\n",
              "      border-color: transparent;\n",
              "      border-bottom-color: var(--fill-color);\n",
              "      border-left-color: var(--fill-color);\n",
              "    }\n",
              "    20% {\n",
              "      border-color: transparent;\n",
              "      border-left-color: var(--fill-color);\n",
              "      border-top-color: var(--fill-color);\n",
              "    }\n",
              "    30% {\n",
              "      border-color: transparent;\n",
              "      border-left-color: var(--fill-color);\n",
              "      border-top-color: var(--fill-color);\n",
              "      border-right-color: var(--fill-color);\n",
              "    }\n",
              "    40% {\n",
              "      border-color: transparent;\n",
              "      border-right-color: var(--fill-color);\n",
              "      border-top-color: var(--fill-color);\n",
              "    }\n",
              "    60% {\n",
              "      border-color: transparent;\n",
              "      border-right-color: var(--fill-color);\n",
              "    }\n",
              "    80% {\n",
              "      border-color: transparent;\n",
              "      border-right-color: var(--fill-color);\n",
              "      border-bottom-color: var(--fill-color);\n",
              "    }\n",
              "    90% {\n",
              "      border-color: transparent;\n",
              "      border-bottom-color: var(--fill-color);\n",
              "    }\n",
              "  }\n",
              "</style>\n",
              "\n",
              "  <script>\n",
              "    async function quickchart(key) {\n",
              "      const quickchartButtonEl =\n",
              "        document.querySelector('#' + key + ' button');\n",
              "      quickchartButtonEl.disabled = true;  // To prevent multiple clicks.\n",
              "      quickchartButtonEl.classList.add('colab-df-spinner');\n",
              "      try {\n",
              "        const charts = await google.colab.kernel.invokeFunction(\n",
              "            'suggestCharts', [key], {});\n",
              "      } catch (error) {\n",
              "        console.error('Error during call to suggestCharts:', error);\n",
              "      }\n",
              "      quickchartButtonEl.classList.remove('colab-df-spinner');\n",
              "      quickchartButtonEl.classList.add('colab-df-quickchart-complete');\n",
              "    }\n",
              "    (() => {\n",
              "      let quickchartButtonEl =\n",
              "        document.querySelector('#df-c54d8aa5-f3d5-4c17-93ce-506ffe54985f button');\n",
              "      quickchartButtonEl.style.display =\n",
              "        google.colab.kernel.accessAllowed ? 'block' : 'none';\n",
              "    })();\n",
              "  </script>\n",
              "</div>\n",
              "\n",
              "    </div>\n",
              "  </div>\n"
            ],
            "application/vnd.google.colaboratory.intrinsic+json": {
              "type": "dataframe",
              "variable_name": "data",
              "summary": "{\n  \"name\": \"data\",\n  \"rows\": 5033,\n  \"fields\": [\n    {\n      \"column\": \"Date\",\n      \"properties\": {\n        \"dtype\": \"date\",\n        \"min\": \"2004-01-02 00:00:00\",\n        \"max\": \"2023-12-29 00:00:00\",\n        \"num_unique_values\": 5033,\n        \"samples\": [\n          \"2012-10-10 00:00:00\",\n          \"2011-02-09 00:00:00\",\n          \"2016-06-07 00:00:00\"\n        ],\n        \"semantic_type\": \"\",\n        \"description\": \"\"\n      }\n    },\n    {\n      \"column\": \"adj Close\",\n      \"properties\": {\n        \"dtype\": \"number\",\n        \"std\": 52.867742922415,\n        \"min\": 0.32,\n        \"max\": 197.14,\n        \"num_unique_values\": 3277,\n        \"samples\": [\n          163.59,\n          151.02,\n          26.47\n        ],\n        \"semantic_type\": \"\",\n        \"description\": \"\"\n      }\n    },\n    {\n      \"column\": \"Close\",\n      \"properties\": {\n        \"dtype\": \"number\",\n        \"std\": 53.162830612107385,\n        \"min\": 0.38,\n        \"max\": 198.11,\n        \"num_unique_values\": 3354,\n        \"samples\": [\n          4.98,\n          4.51,\n          65.43\n        ],\n        \"semantic_type\": \"\",\n        \"description\": \"\"\n      }\n    },\n    {\n      \"column\": \"High\",\n      \"properties\": {\n        \"dtype\": \"number\",\n        \"std\": 53.70247944492703,\n        \"min\": 0.39,\n        \"max\": 199.62,\n        \"num_unique_values\": 3347,\n        \"samples\": [\n          36.08,\n          123.87,\n          31.43\n        ],\n        \"semantic_type\": \"\",\n        \"description\": \"\"\n      }\n    },\n    {\n      \"column\": \"Low\",\n      \"properties\": {\n        \"dtype\": \"number\",\n        \"std\": 52.56591024193551,\n        \"min\": 0.38,\n        \"max\": 197.0,\n        \"num_unique_values\": 3345,\n        \"samples\": [\n          19.06,\n          52.31,\n          29.13\n        ],\n        \"semantic_type\": \"\",\n        \"description\": \"\"\n      }\n    },\n    {\n      \"column\": \"Open\",\n      \"properties\": {\n        \"dtype\": \"number\",\n        \"std\": 53.111254552562265,\n        \"min\": 0.38,\n        \"max\": 198.02,\n        \"num_unique_values\": 3336,\n        \"samples\": [\n          5.18,\n          142.19,\n          11.61\n        ],\n        \"semantic_type\": \"\",\n        \"description\": \"\"\n      }\n    },\n    {\n      \"column\": \"Volume\",\n      \"properties\": {\n        \"dtype\": \"number\",\n        \"std\": 396875458,\n        \"min\": 24048300,\n        \"max\": 3372969600,\n        \"num_unique_values\": 5016,\n        \"samples\": [\n          337377600,\n          145516400,\n          85553200\n        ],\n        \"semantic_type\": \"\",\n        \"description\": \"\"\n      }\n    }\n  ]\n}"
            }
          },
          "metadata": {},
          "execution_count": 7
        }
      ],
      "source": [
        "data = data.round(2)\n",
        "data.head(5)"
      ]
    },
    {
      "cell_type": "markdown",
      "metadata": {
        "id": "5sHkZYMRSoPE"
      },
      "source": [
        "## Adding Columns"
      ]
    },
    {
      "cell_type": "markdown",
      "metadata": {
        "id": "cDFVMpV7PDJ-"
      },
      "source": [
        "#### Feature Engineering"
      ]
    },
    {
      "cell_type": "code",
      "execution_count": 8,
      "metadata": {
        "id": "5EyEaLvJScPt"
      },
      "outputs": [],
      "source": [
        "\n",
        "# Time-Based Features\n",
        "data['DayofWeek'] = data.index.dayofweek\n",
        "data['Month'] = data.index.month\n",
        "data['Quarter'] = data.index.quarter\n",
        "\n",
        "# Lagged Features (previous day's values)\n",
        "data['Close_Lag1'] = data['Close'].shift(1)\n",
        "data['Volume_Lag1'] = data['Volume'].shift(1)\n",
        "\n",
        "\n",
        "data['Price Change %'] = data['Close'].pct_change() * 100\n",
        "data['Volatility_20'] = data['Close'].rolling(window=20).std()\n",
        "data['SMA_50'] = data['Close'].rolling(window=50).mean()\n",
        "data['EMA_50'] = data['Close'].ewm(span=50, adjust=False).mean()\n",
        "\n",
        "# Interaction Features\n",
        "data['Close_Volatility'] = data['Close'] * data['Volatility_20']\n",
        "\n",
        "\n",
        "\n",
        "if isinstance(data.columns, pd.MultiIndex):\n",
        "\n",
        "    data.columns = data.columns.droplevel(0)\n",
        "\n",
        "    data.columns = ['adj Close', 'Close', 'High', 'Low', 'Open', 'Volume','Price Change %', 'Volatility_20', 'SMA_50', 'EMA_50']\n",
        "\n",
        "\n",
        "\n",
        "data = data.round(2)\n",
        "\n",
        "\n"
      ]
    },
    {
      "cell_type": "code",
      "execution_count": 9,
      "metadata": {
        "id": "ZXh3CRZgmDp_"
      },
      "outputs": [],
      "source": [
        "data.to_csv('AAPL_stock_data.csv')"
      ]
    },
    {
      "cell_type": "markdown",
      "metadata": {
        "id": "XuPt8sGLVXuH"
      },
      "source": [
        "## Data Processing"
      ]
    },
    {
      "cell_type": "code",
      "execution_count": null,
      "metadata": {
        "id": "jWZBg03SVeDG"
      },
      "outputs": [],
      "source": [
        "import pandas as pd\n",
        "\n",
        "data = pd.read_csv('AAPL_stock_data.csv', header=0, parse_dates=['Date'], index_col='Date')\n",
        "\n",
        "data = data.bfill()\n",
        "\n",
        "\n",
        "\n",
        "print(f\"Data Info:\\n {data.info}\")\n",
        "print(f\"Sum of null data:\\n {data.isnull().sum()}\")\n",
        "\n",
        "\n",
        "\n",
        "\n"
      ]
    },
    {
      "cell_type": "code",
      "execution_count": 11,
      "metadata": {
        "id": "ixu9CvxDkWJS",
        "colab": {
          "base_uri": "https://localhost:8080/",
          "height": 237
        },
        "outputId": "a5d994c9-5e59-4af3-e0c9-9bf00b530f5a"
      },
      "outputs": [
        {
          "output_type": "execute_result",
          "data": {
            "text/plain": [
              "            adj Close   Close    High     Low    Open    Volume  DayofWeek  \\\n",
              "Date                                                                         \n",
              "2023-12-22     192.66  193.60  195.41  192.97  195.18  37122800          4   \n",
              "2023-12-26     192.11  193.05  193.89  192.83  193.61  28919300          1   \n",
              "2023-12-27     192.21  193.15  193.50  191.09  192.49  48087700          2   \n",
              "2023-12-28     192.64  193.58  194.66  193.17  194.14  34049900          3   \n",
              "2023-12-29     191.59  192.53  194.40  191.73  193.90  42628800          4   \n",
              "\n",
              "            Month  Quarter  Close_Lag1  Volume_Lag1  Price Change %  \\\n",
              "Date                                                                  \n",
              "2023-12-22     12        4      194.68   46482500.0           -0.55   \n",
              "2023-12-26     12        4      193.60   37122800.0           -0.28   \n",
              "2023-12-27     12        4      193.05   28919300.0            0.05   \n",
              "2023-12-28     12        4      193.15   48087700.0            0.22   \n",
              "2023-12-29     12        4      193.58   34049900.0           -0.54   \n",
              "\n",
              "            Volatility_20  SMA_50  EMA_50  Close_Volatility  \n",
              "Date                                                         \n",
              "2023-12-22           2.91  185.40  188.23            563.57  \n",
              "2023-12-26           2.77  185.68  188.42            534.80  \n",
              "2023-12-27           2.66  185.97  188.60            513.18  \n",
              "2023-12-28           2.43  186.30  188.80            470.50  \n",
              "2023-12-29           2.26  186.63  188.94            434.43  "
            ],
            "text/html": [
              "\n",
              "  <div id=\"df-f5483af5-e654-48b6-8330-be45f089b92a\" class=\"colab-df-container\">\n",
              "    <div>\n",
              "<style scoped>\n",
              "    .dataframe tbody tr th:only-of-type {\n",
              "        vertical-align: middle;\n",
              "    }\n",
              "\n",
              "    .dataframe tbody tr th {\n",
              "        vertical-align: top;\n",
              "    }\n",
              "\n",
              "    .dataframe thead th {\n",
              "        text-align: right;\n",
              "    }\n",
              "</style>\n",
              "<table border=\"1\" class=\"dataframe\">\n",
              "  <thead>\n",
              "    <tr style=\"text-align: right;\">\n",
              "      <th></th>\n",
              "      <th>adj Close</th>\n",
              "      <th>Close</th>\n",
              "      <th>High</th>\n",
              "      <th>Low</th>\n",
              "      <th>Open</th>\n",
              "      <th>Volume</th>\n",
              "      <th>DayofWeek</th>\n",
              "      <th>Month</th>\n",
              "      <th>Quarter</th>\n",
              "      <th>Close_Lag1</th>\n",
              "      <th>Volume_Lag1</th>\n",
              "      <th>Price Change %</th>\n",
              "      <th>Volatility_20</th>\n",
              "      <th>SMA_50</th>\n",
              "      <th>EMA_50</th>\n",
              "      <th>Close_Volatility</th>\n",
              "    </tr>\n",
              "    <tr>\n",
              "      <th>Date</th>\n",
              "      <th></th>\n",
              "      <th></th>\n",
              "      <th></th>\n",
              "      <th></th>\n",
              "      <th></th>\n",
              "      <th></th>\n",
              "      <th></th>\n",
              "      <th></th>\n",
              "      <th></th>\n",
              "      <th></th>\n",
              "      <th></th>\n",
              "      <th></th>\n",
              "      <th></th>\n",
              "      <th></th>\n",
              "      <th></th>\n",
              "      <th></th>\n",
              "    </tr>\n",
              "  </thead>\n",
              "  <tbody>\n",
              "    <tr>\n",
              "      <th>2023-12-22</th>\n",
              "      <td>192.66</td>\n",
              "      <td>193.60</td>\n",
              "      <td>195.41</td>\n",
              "      <td>192.97</td>\n",
              "      <td>195.18</td>\n",
              "      <td>37122800</td>\n",
              "      <td>4</td>\n",
              "      <td>12</td>\n",
              "      <td>4</td>\n",
              "      <td>194.68</td>\n",
              "      <td>46482500.0</td>\n",
              "      <td>-0.55</td>\n",
              "      <td>2.91</td>\n",
              "      <td>185.40</td>\n",
              "      <td>188.23</td>\n",
              "      <td>563.57</td>\n",
              "    </tr>\n",
              "    <tr>\n",
              "      <th>2023-12-26</th>\n",
              "      <td>192.11</td>\n",
              "      <td>193.05</td>\n",
              "      <td>193.89</td>\n",
              "      <td>192.83</td>\n",
              "      <td>193.61</td>\n",
              "      <td>28919300</td>\n",
              "      <td>1</td>\n",
              "      <td>12</td>\n",
              "      <td>4</td>\n",
              "      <td>193.60</td>\n",
              "      <td>37122800.0</td>\n",
              "      <td>-0.28</td>\n",
              "      <td>2.77</td>\n",
              "      <td>185.68</td>\n",
              "      <td>188.42</td>\n",
              "      <td>534.80</td>\n",
              "    </tr>\n",
              "    <tr>\n",
              "      <th>2023-12-27</th>\n",
              "      <td>192.21</td>\n",
              "      <td>193.15</td>\n",
              "      <td>193.50</td>\n",
              "      <td>191.09</td>\n",
              "      <td>192.49</td>\n",
              "      <td>48087700</td>\n",
              "      <td>2</td>\n",
              "      <td>12</td>\n",
              "      <td>4</td>\n",
              "      <td>193.05</td>\n",
              "      <td>28919300.0</td>\n",
              "      <td>0.05</td>\n",
              "      <td>2.66</td>\n",
              "      <td>185.97</td>\n",
              "      <td>188.60</td>\n",
              "      <td>513.18</td>\n",
              "    </tr>\n",
              "    <tr>\n",
              "      <th>2023-12-28</th>\n",
              "      <td>192.64</td>\n",
              "      <td>193.58</td>\n",
              "      <td>194.66</td>\n",
              "      <td>193.17</td>\n",
              "      <td>194.14</td>\n",
              "      <td>34049900</td>\n",
              "      <td>3</td>\n",
              "      <td>12</td>\n",
              "      <td>4</td>\n",
              "      <td>193.15</td>\n",
              "      <td>48087700.0</td>\n",
              "      <td>0.22</td>\n",
              "      <td>2.43</td>\n",
              "      <td>186.30</td>\n",
              "      <td>188.80</td>\n",
              "      <td>470.50</td>\n",
              "    </tr>\n",
              "    <tr>\n",
              "      <th>2023-12-29</th>\n",
              "      <td>191.59</td>\n",
              "      <td>192.53</td>\n",
              "      <td>194.40</td>\n",
              "      <td>191.73</td>\n",
              "      <td>193.90</td>\n",
              "      <td>42628800</td>\n",
              "      <td>4</td>\n",
              "      <td>12</td>\n",
              "      <td>4</td>\n",
              "      <td>193.58</td>\n",
              "      <td>34049900.0</td>\n",
              "      <td>-0.54</td>\n",
              "      <td>2.26</td>\n",
              "      <td>186.63</td>\n",
              "      <td>188.94</td>\n",
              "      <td>434.43</td>\n",
              "    </tr>\n",
              "  </tbody>\n",
              "</table>\n",
              "</div>\n",
              "    <div class=\"colab-df-buttons\">\n",
              "\n",
              "  <div class=\"colab-df-container\">\n",
              "    <button class=\"colab-df-convert\" onclick=\"convertToInteractive('df-f5483af5-e654-48b6-8330-be45f089b92a')\"\n",
              "            title=\"Convert this dataframe to an interactive table.\"\n",
              "            style=\"display:none;\">\n",
              "\n",
              "  <svg xmlns=\"http://www.w3.org/2000/svg\" height=\"24px\" viewBox=\"0 -960 960 960\">\n",
              "    <path d=\"M120-120v-720h720v720H120Zm60-500h600v-160H180v160Zm220 220h160v-160H400v160Zm0 220h160v-160H400v160ZM180-400h160v-160H180v160Zm440 0h160v-160H620v160ZM180-180h160v-160H180v160Zm440 0h160v-160H620v160Z\"/>\n",
              "  </svg>\n",
              "    </button>\n",
              "\n",
              "  <style>\n",
              "    .colab-df-container {\n",
              "      display:flex;\n",
              "      gap: 12px;\n",
              "    }\n",
              "\n",
              "    .colab-df-convert {\n",
              "      background-color: #E8F0FE;\n",
              "      border: none;\n",
              "      border-radius: 50%;\n",
              "      cursor: pointer;\n",
              "      display: none;\n",
              "      fill: #1967D2;\n",
              "      height: 32px;\n",
              "      padding: 0 0 0 0;\n",
              "      width: 32px;\n",
              "    }\n",
              "\n",
              "    .colab-df-convert:hover {\n",
              "      background-color: #E2EBFA;\n",
              "      box-shadow: 0px 1px 2px rgba(60, 64, 67, 0.3), 0px 1px 3px 1px rgba(60, 64, 67, 0.15);\n",
              "      fill: #174EA6;\n",
              "    }\n",
              "\n",
              "    .colab-df-buttons div {\n",
              "      margin-bottom: 4px;\n",
              "    }\n",
              "\n",
              "    [theme=dark] .colab-df-convert {\n",
              "      background-color: #3B4455;\n",
              "      fill: #D2E3FC;\n",
              "    }\n",
              "\n",
              "    [theme=dark] .colab-df-convert:hover {\n",
              "      background-color: #434B5C;\n",
              "      box-shadow: 0px 1px 3px 1px rgba(0, 0, 0, 0.15);\n",
              "      filter: drop-shadow(0px 1px 2px rgba(0, 0, 0, 0.3));\n",
              "      fill: #FFFFFF;\n",
              "    }\n",
              "  </style>\n",
              "\n",
              "    <script>\n",
              "      const buttonEl =\n",
              "        document.querySelector('#df-f5483af5-e654-48b6-8330-be45f089b92a button.colab-df-convert');\n",
              "      buttonEl.style.display =\n",
              "        google.colab.kernel.accessAllowed ? 'block' : 'none';\n",
              "\n",
              "      async function convertToInteractive(key) {\n",
              "        const element = document.querySelector('#df-f5483af5-e654-48b6-8330-be45f089b92a');\n",
              "        const dataTable =\n",
              "          await google.colab.kernel.invokeFunction('convertToInteractive',\n",
              "                                                    [key], {});\n",
              "        if (!dataTable) return;\n",
              "\n",
              "        const docLinkHtml = 'Like what you see? Visit the ' +\n",
              "          '<a target=\"_blank\" href=https://colab.research.google.com/notebooks/data_table.ipynb>data table notebook</a>'\n",
              "          + ' to learn more about interactive tables.';\n",
              "        element.innerHTML = '';\n",
              "        dataTable['output_type'] = 'display_data';\n",
              "        await google.colab.output.renderOutput(dataTable, element);\n",
              "        const docLink = document.createElement('div');\n",
              "        docLink.innerHTML = docLinkHtml;\n",
              "        element.appendChild(docLink);\n",
              "      }\n",
              "    </script>\n",
              "  </div>\n",
              "\n",
              "\n",
              "<div id=\"df-2cb2a462-bf99-44d2-b0a4-ccafe4c50eda\">\n",
              "  <button class=\"colab-df-quickchart\" onclick=\"quickchart('df-2cb2a462-bf99-44d2-b0a4-ccafe4c50eda')\"\n",
              "            title=\"Suggest charts\"\n",
              "            style=\"display:none;\">\n",
              "\n",
              "<svg xmlns=\"http://www.w3.org/2000/svg\" height=\"24px\"viewBox=\"0 0 24 24\"\n",
              "     width=\"24px\">\n",
              "    <g>\n",
              "        <path d=\"M19 3H5c-1.1 0-2 .9-2 2v14c0 1.1.9 2 2 2h14c1.1 0 2-.9 2-2V5c0-1.1-.9-2-2-2zM9 17H7v-7h2v7zm4 0h-2V7h2v10zm4 0h-2v-4h2v4z\"/>\n",
              "    </g>\n",
              "</svg>\n",
              "  </button>\n",
              "\n",
              "<style>\n",
              "  .colab-df-quickchart {\n",
              "      --bg-color: #E8F0FE;\n",
              "      --fill-color: #1967D2;\n",
              "      --hover-bg-color: #E2EBFA;\n",
              "      --hover-fill-color: #174EA6;\n",
              "      --disabled-fill-color: #AAA;\n",
              "      --disabled-bg-color: #DDD;\n",
              "  }\n",
              "\n",
              "  [theme=dark] .colab-df-quickchart {\n",
              "      --bg-color: #3B4455;\n",
              "      --fill-color: #D2E3FC;\n",
              "      --hover-bg-color: #434B5C;\n",
              "      --hover-fill-color: #FFFFFF;\n",
              "      --disabled-bg-color: #3B4455;\n",
              "      --disabled-fill-color: #666;\n",
              "  }\n",
              "\n",
              "  .colab-df-quickchart {\n",
              "    background-color: var(--bg-color);\n",
              "    border: none;\n",
              "    border-radius: 50%;\n",
              "    cursor: pointer;\n",
              "    display: none;\n",
              "    fill: var(--fill-color);\n",
              "    height: 32px;\n",
              "    padding: 0;\n",
              "    width: 32px;\n",
              "  }\n",
              "\n",
              "  .colab-df-quickchart:hover {\n",
              "    background-color: var(--hover-bg-color);\n",
              "    box-shadow: 0 1px 2px rgba(60, 64, 67, 0.3), 0 1px 3px 1px rgba(60, 64, 67, 0.15);\n",
              "    fill: var(--button-hover-fill-color);\n",
              "  }\n",
              "\n",
              "  .colab-df-quickchart-complete:disabled,\n",
              "  .colab-df-quickchart-complete:disabled:hover {\n",
              "    background-color: var(--disabled-bg-color);\n",
              "    fill: var(--disabled-fill-color);\n",
              "    box-shadow: none;\n",
              "  }\n",
              "\n",
              "  .colab-df-spinner {\n",
              "    border: 2px solid var(--fill-color);\n",
              "    border-color: transparent;\n",
              "    border-bottom-color: var(--fill-color);\n",
              "    animation:\n",
              "      spin 1s steps(1) infinite;\n",
              "  }\n",
              "\n",
              "  @keyframes spin {\n",
              "    0% {\n",
              "      border-color: transparent;\n",
              "      border-bottom-color: var(--fill-color);\n",
              "      border-left-color: var(--fill-color);\n",
              "    }\n",
              "    20% {\n",
              "      border-color: transparent;\n",
              "      border-left-color: var(--fill-color);\n",
              "      border-top-color: var(--fill-color);\n",
              "    }\n",
              "    30% {\n",
              "      border-color: transparent;\n",
              "      border-left-color: var(--fill-color);\n",
              "      border-top-color: var(--fill-color);\n",
              "      border-right-color: var(--fill-color);\n",
              "    }\n",
              "    40% {\n",
              "      border-color: transparent;\n",
              "      border-right-color: var(--fill-color);\n",
              "      border-top-color: var(--fill-color);\n",
              "    }\n",
              "    60% {\n",
              "      border-color: transparent;\n",
              "      border-right-color: var(--fill-color);\n",
              "    }\n",
              "    80% {\n",
              "      border-color: transparent;\n",
              "      border-right-color: var(--fill-color);\n",
              "      border-bottom-color: var(--fill-color);\n",
              "    }\n",
              "    90% {\n",
              "      border-color: transparent;\n",
              "      border-bottom-color: var(--fill-color);\n",
              "    }\n",
              "  }\n",
              "</style>\n",
              "\n",
              "  <script>\n",
              "    async function quickchart(key) {\n",
              "      const quickchartButtonEl =\n",
              "        document.querySelector('#' + key + ' button');\n",
              "      quickchartButtonEl.disabled = true;  // To prevent multiple clicks.\n",
              "      quickchartButtonEl.classList.add('colab-df-spinner');\n",
              "      try {\n",
              "        const charts = await google.colab.kernel.invokeFunction(\n",
              "            'suggestCharts', [key], {});\n",
              "      } catch (error) {\n",
              "        console.error('Error during call to suggestCharts:', error);\n",
              "      }\n",
              "      quickchartButtonEl.classList.remove('colab-df-spinner');\n",
              "      quickchartButtonEl.classList.add('colab-df-quickchart-complete');\n",
              "    }\n",
              "    (() => {\n",
              "      let quickchartButtonEl =\n",
              "        document.querySelector('#df-2cb2a462-bf99-44d2-b0a4-ccafe4c50eda button');\n",
              "      quickchartButtonEl.style.display =\n",
              "        google.colab.kernel.accessAllowed ? 'block' : 'none';\n",
              "    })();\n",
              "  </script>\n",
              "</div>\n",
              "\n",
              "    </div>\n",
              "  </div>\n"
            ],
            "application/vnd.google.colaboratory.intrinsic+json": {
              "type": "dataframe",
              "summary": "{\n  \"name\": \"data\",\n  \"rows\": 5,\n  \"fields\": [\n    {\n      \"column\": \"Date\",\n      \"properties\": {\n        \"dtype\": \"date\",\n        \"min\": \"2023-12-22 00:00:00\",\n        \"max\": \"2023-12-29 00:00:00\",\n        \"num_unique_values\": 5,\n        \"samples\": [\n          \"2023-12-26 00:00:00\",\n          \"2023-12-29 00:00:00\",\n          \"2023-12-27 00:00:00\"\n        ],\n        \"semantic_type\": \"\",\n        \"description\": \"\"\n      }\n    },\n    {\n      \"column\": \"adj Close\",\n      \"properties\": {\n        \"dtype\": \"number\",\n        \"std\": 0.4406472512112091,\n        \"min\": 191.59,\n        \"max\": 192.66,\n        \"num_unique_values\": 5,\n        \"samples\": [\n          192.11,\n          191.59,\n          192.21\n        ],\n        \"semantic_type\": \"\",\n        \"description\": \"\"\n      }\n    },\n    {\n      \"column\": \"Close\",\n      \"properties\": {\n        \"dtype\": \"number\",\n        \"std\": 0.44064725121121556,\n        \"min\": 192.53,\n        \"max\": 193.6,\n        \"num_unique_values\": 5,\n        \"samples\": [\n          193.05,\n          192.53,\n          193.15\n        ],\n        \"semantic_type\": \"\",\n        \"description\": \"\"\n      }\n    },\n    {\n      \"column\": \"High\",\n      \"properties\": {\n        \"dtype\": \"number\",\n        \"std\": 0.7338051512492952,\n        \"min\": 193.5,\n        \"max\": 195.41,\n        \"num_unique_values\": 5,\n        \"samples\": [\n          193.89,\n          194.4,\n          193.5\n        ],\n        \"semantic_type\": \"\",\n        \"description\": \"\"\n      }\n    },\n    {\n      \"column\": \"Low\",\n      \"properties\": {\n        \"dtype\": \"number\",\n        \"std\": 0.9026184132843726,\n        \"min\": 191.09,\n        \"max\": 193.17,\n        \"num_unique_values\": 5,\n        \"samples\": [\n          192.83,\n          191.73,\n          191.09\n        ],\n        \"semantic_type\": \"\",\n        \"description\": \"\"\n      }\n    },\n    {\n      \"column\": \"Open\",\n      \"properties\": {\n        \"dtype\": \"number\",\n        \"std\": 0.9697577016966633,\n        \"min\": 192.49,\n        \"max\": 195.18,\n        \"num_unique_values\": 5,\n        \"samples\": [\n          193.61,\n          193.9,\n          192.49\n        ],\n        \"semantic_type\": \"\",\n        \"description\": \"\"\n      }\n    },\n    {\n      \"column\": \"Volume\",\n      \"properties\": {\n        \"dtype\": \"number\",\n        \"std\": 7447963,\n        \"min\": 28919300,\n        \"max\": 48087700,\n        \"num_unique_values\": 5,\n        \"samples\": [\n          28919300,\n          42628800,\n          48087700\n        ],\n        \"semantic_type\": \"\",\n        \"description\": \"\"\n      }\n    },\n    {\n      \"column\": \"DayofWeek\",\n      \"properties\": {\n        \"dtype\": \"number\",\n        \"std\": 1,\n        \"min\": 1,\n        \"max\": 4,\n        \"num_unique_values\": 4,\n        \"samples\": [\n          1,\n          3,\n          4\n        ],\n        \"semantic_type\": \"\",\n        \"description\": \"\"\n      }\n    },\n    {\n      \"column\": \"Month\",\n      \"properties\": {\n        \"dtype\": \"number\",\n        \"std\": 0,\n        \"min\": 12,\n        \"max\": 12,\n        \"num_unique_values\": 1,\n        \"samples\": [\n          12\n        ],\n        \"semantic_type\": \"\",\n        \"description\": \"\"\n      }\n    },\n    {\n      \"column\": \"Quarter\",\n      \"properties\": {\n        \"dtype\": \"number\",\n        \"std\": 0,\n        \"min\": 4,\n        \"max\": 4,\n        \"num_unique_values\": 1,\n        \"samples\": [\n          4\n        ],\n        \"semantic_type\": \"\",\n        \"description\": \"\"\n      }\n    },\n    {\n      \"column\": \"Close_Lag1\",\n      \"properties\": {\n        \"dtype\": \"number\",\n        \"std\": 0.6463512976702367,\n        \"min\": 193.05,\n        \"max\": 194.68,\n        \"num_unique_values\": 5,\n        \"samples\": [\n          193.6\n        ],\n        \"semantic_type\": \"\",\n        \"description\": \"\"\n      }\n    },\n    {\n      \"column\": \"Volume_Lag1\",\n      \"properties\": {\n        \"dtype\": \"number\",\n        \"std\": 8188393.586534541,\n        \"min\": 28919300.0,\n        \"max\": 48087700.0,\n        \"num_unique_values\": 5,\n        \"samples\": [\n          37122800.0\n        ],\n        \"semantic_type\": \"\",\n        \"description\": \"\"\n      }\n    },\n    {\n      \"column\": \"Price Change %\",\n      \"properties\": {\n        \"dtype\": \"number\",\n        \"std\": 0.34691497517403314,\n        \"min\": -0.55,\n        \"max\": 0.22,\n        \"num_unique_values\": 5,\n        \"samples\": [\n          -0.28\n        ],\n        \"semantic_type\": \"\",\n        \"description\": \"\"\n      }\n    },\n    {\n      \"column\": \"Volatility_20\",\n      \"properties\": {\n        \"dtype\": \"number\",\n        \"std\": 0.2612087287974888,\n        \"min\": 2.26,\n        \"max\": 2.91,\n        \"num_unique_values\": 5,\n        \"samples\": [\n          2.77\n        ],\n        \"semantic_type\": \"\",\n        \"description\": \"\"\n      }\n    },\n    {\n      \"column\": \"SMA_50\",\n      \"properties\": {\n        \"dtype\": \"number\",\n        \"std\": 0.48737049561909007,\n        \"min\": 185.4,\n        \"max\": 186.63,\n        \"num_unique_values\": 5,\n        \"samples\": [\n          185.68\n        ],\n        \"semantic_type\": \"\",\n        \"description\": \"\"\n      }\n    },\n    {\n      \"column\": \"EMA_50\",\n      \"properties\": {\n        \"dtype\": \"number\",\n        \"std\": 0.28499122793518356,\n        \"min\": 188.23,\n        \"max\": 188.94,\n        \"num_unique_values\": 5,\n        \"samples\": [\n          188.42\n        ],\n        \"semantic_type\": \"\",\n        \"description\": \"\"\n      }\n    },\n    {\n      \"column\": \"Close_Volatility\",\n      \"properties\": {\n        \"dtype\": \"number\",\n        \"std\": 51.33530490802602,\n        \"min\": 434.43,\n        \"max\": 563.57,\n        \"num_unique_values\": 5,\n        \"samples\": [\n          534.8\n        ],\n        \"semantic_type\": \"\",\n        \"description\": \"\"\n      }\n    }\n  ]\n}"
            }
          },
          "metadata": {},
          "execution_count": 11
        }
      ],
      "source": [
        "data.tail(5)"
      ]
    },
    {
      "cell_type": "markdown",
      "metadata": {
        "id": "x2jeo7Q8XJZk"
      },
      "source": [
        "## Model Building"
      ]
    },
    {
      "cell_type": "code",
      "source": [
        "pip install torch pandas numpy matplotlib scikit-learn"
      ],
      "metadata": {
        "id": "GeZb7Rzd88mQ"
      },
      "execution_count": null,
      "outputs": []
    },
    {
      "cell_type": "code",
      "source": [
        "import torch\n",
        "import numpy as np\n",
        "import pandas as pd\n",
        "import matplotlib.pyplot as plt\n",
        "from sklearn.preprocessing import MinMaxScaler\n",
        "from sklearn.model_selection import train_test_split\n",
        "from torch import nn\n",
        "from torch.utils.data import DataLoader, TensorDataset"
      ],
      "metadata": {
        "id": "_OSs7kSJ9B5x"
      },
      "execution_count": 13,
      "outputs": []
    },
    {
      "cell_type": "markdown",
      "source": [
        "##### Normalize dataset"
      ],
      "metadata": {
        "id": "eILSyzNpxPgE"
      }
    },
    {
      "cell_type": "code",
      "source": [
        "scaler = MinMaxScaler(feature_range=(0, 1))\n",
        "data['Close'] = scaler.fit_transform(data[['Close']])\n",
        "\n",
        "# Using the last 60 days' data to predict the next day\n",
        "sequence_length = 60\n",
        "X = []\n",
        "y = []\n",
        "\n",
        "for i in range(sequence_length, len(data)):\n",
        "    X.append(data['Close'].iloc[i-sequence_length:i].values)\n",
        "    y.append(data['Close'].iloc[i])\n",
        "\n",
        "X = np.array(X)\n",
        "y = np.array(y)\n",
        "\n",
        "\n",
        "X_train, X_test, y_train, y_test = train_test_split(X, y, test_size=0.2, shuffle=False)\n"
      ],
      "metadata": {
        "id": "LqSv-geu8qCD"
      },
      "execution_count": 14,
      "outputs": []
    },
    {
      "cell_type": "markdown",
      "source": [
        "#### Convert to torch tensors"
      ],
      "metadata": {
        "id": "ENzQWm0qyIWg"
      }
    },
    {
      "cell_type": "code",
      "source": [
        "X_train_tensor = torch.tensor(X_train, dtype=torch.float32).unsqueeze(-1)\n",
        "X_test_tensor = torch.tensor(X_test, dtype=torch.float32).unsqueeze(-1)\n",
        "\n",
        "# Convert Data to PyTorch Tensors\n",
        "X_train_tensor = torch.tensor(X_train, dtype=torch.float32).unsqueeze(-1)\n",
        "X_test_tensor = torch.tensor(X_test, dtype=torch.float32).unsqueeze(-1)\n",
        "\n",
        "y_train_tensor = torch.tensor(y_train, dtype=torch.float32)\n",
        "y_test_tensor = torch.tensor(y_test, dtype=torch.float32)\n",
        "\n",
        "# Create DataLoader for batching\n",
        "train_data = TensorDataset(X_train_tensor, y_train_tensor)\n",
        "test_data = TensorDataset(X_test_tensor, y_test_tensor)\n",
        "\n",
        "train_loader = DataLoader(train_data, batch_size=64, shuffle=False)\n",
        "test_loader = DataLoader(test_data, batch_size=64, shuffle=False)\n",
        "\n",
        "\n"
      ],
      "metadata": {
        "id": "vxZfG1y68yBy"
      },
      "execution_count": 15,
      "outputs": []
    },
    {
      "cell_type": "markdown",
      "source": [
        "##### Model Definition"
      ],
      "metadata": {
        "id": "SSGuYUPdASZa"
      }
    },
    {
      "cell_type": "code",
      "source": [
        "class XTransformer(nn.Module):\n",
        "    def __init__(self, input_size=1, hidden_dim=64, num_heads=8, num_layers=4, output_size=1):\n",
        "        super(XTransformer, self).__init__()\n",
        "\n",
        "        self.input_size = input_size\n",
        "        self.hidden_dim = hidden_dim\n",
        "        self.num_heads = num_heads\n",
        "        self.num_layers = num_layers\n",
        "        self.output_size = output_size\n",
        "\n",
        "\n",
        "        self.input_projection = nn.Linear(input_size, hidden_dim)\n",
        "\n",
        "        # The Transformer encoder\n",
        "        self.encoder_layer = nn.TransformerEncoderLayer(\n",
        "            d_model=self.hidden_dim,\n",
        "            nhead=self.num_heads,\n",
        "            dim_feedforward=256\n",
        "        )\n",
        "        self.encoder = nn.TransformerEncoder(self.encoder_layer, num_layers=self.num_layers)\n",
        "\n",
        "        # Output layer\n",
        "        self.fc = nn.Linear(self.hidden_dim, self.output_size)\n",
        "\n",
        "    def forward(self, x):\n",
        "\n",
        "        x = self.input_projection(x)\n",
        "\n",
        "        # Convert the input to shape (seq_len, batch_size, input_dim)\n",
        "        x = x.permute(1, 0, 2)\n",
        "\n",
        "        x = self.encoder(x)\n",
        "\n",
        "        # Last time-step for prediction\n",
        "        x = x[-1, :, :]\n",
        "\n",
        "        # Output layer\n",
        "        x = self.fc(x)\n",
        "\n",
        "        return x"
      ],
      "metadata": {
        "id": "Y3R-ex3aAhYj"
      },
      "execution_count": 16,
      "outputs": []
    },
    {
      "cell_type": "markdown",
      "source": [
        "#### Model Training"
      ],
      "metadata": {
        "id": "2gTFQU9b9aRr"
      }
    },
    {
      "cell_type": "code",
      "source": [
        "import torch\n",
        "from torch.utils.data import DataLoader, random_split\n",
        "import matplotlib.pyplot as plt\n",
        "\n",
        "\n",
        "train_size = int(0.8 * len(train_data))  # 80% for training\n",
        "val_size = len(train_data) - train_size  # 20% for validation\n",
        "train_data, val_dataset = random_split(train_data, [train_size, val_size])\n",
        "\n",
        "# Create DataLoader\n",
        "train_loader = DataLoader(train_data, batch_size=64, shuffle=True)\n",
        "val_loader = DataLoader(val_dataset, batch_size=64, shuffle=False)\n",
        "\n",
        "\n",
        "epochs = 50\n",
        "learning_rate = 0.001\n",
        "\n",
        "# Initialize the Model, Optimizer, and Loss Function\n",
        "model = XTransformer(input_size=1)\n",
        "optimizer = torch.optim.Adam(model.parameters(), lr=learning_rate)\n",
        "criterion = nn.MSELoss()  # Mean Squared Error Loss\n",
        "\n",
        "\n",
        "train_losses = []\n",
        "val_losses = []\n",
        "\n",
        "\n",
        "for epoch in range(epochs):\n",
        "    model.train()\n",
        "    epoch_loss = 0\n",
        "    epoch_mae = 0\n",
        "\n",
        "    for batch_idx, (X_batch, y_batch) in enumerate(train_loader):\n",
        "        optimizer.zero_grad()\n",
        "\n",
        "        # Forward pass\n",
        "        output = model(X_batch)\n",
        "\n",
        "        # Calculate loss (MSE)\n",
        "        loss = criterion(output, y_batch.view(-1, 1))\n",
        "\n",
        "        # Calculate MAE\n",
        "        mae = torch.mean(torch.abs(output - y_batch.view(-1, 1)))\n",
        "\n",
        "        # Backward pass and optimization\n",
        "        loss.backward()\n",
        "        optimizer.step()\n",
        "\n",
        "        epoch_loss += loss.item()\n",
        "        epoch_mae += mae.item()\n",
        "\n",
        "    # Store training loss for this epoch\n",
        "    train_losses.append(epoch_loss / len(train_loader))\n",
        "\n",
        "    # Compute the validation loss\n",
        "    model.eval()\n",
        "    epoch_val_loss = 0\n",
        "    with torch.no_grad():\n",
        "        for X_batch, y_batch in val_loader:  # Assuming val_loader is defined\n",
        "            output = model(X_batch)\n",
        "            loss = criterion(output, y_batch.view(-1, 1))\n",
        "            epoch_val_loss += loss.item()\n",
        "\n",
        "    # Store the validation loss for this epoch\n",
        "    val_losses.append(epoch_val_loss / len(val_loader))\n",
        "\n",
        "\n",
        "    print(f\"Epoch {epoch+1}/{epochs}, Loss: {train_losses[-1]:.4f}, MAE: {epoch_mae/len(train_loader):.4f}, Validation Loss: {val_losses[-1]:.4f}\")\n"
      ],
      "metadata": {
        "colab": {
          "base_uri": "https://localhost:8080/"
        },
        "id": "2iSGsXX99dFr",
        "outputId": "0abefd17-e99c-4c6e-a134-e1dcee353fc1"
      },
      "execution_count": 54,
      "outputs": [
        {
          "output_type": "stream",
          "name": "stderr",
          "text": [
            "/usr/local/lib/python3.10/dist-packages/torch/nn/modules/transformer.py:379: UserWarning: enable_nested_tensor is True, but self.use_nested_tensor is False because encoder_layer.self_attn.batch_first was not True(use batch_first for better inference performance)\n",
            "  warnings.warn(\n"
          ]
        },
        {
          "output_type": "stream",
          "name": "stdout",
          "text": [
            "Epoch 1/50, Loss: 0.2296, MAE: 0.3759, Validation Loss: 0.0581\n",
            "Epoch 2/50, Loss: 0.0254, MAE: 0.1322, Validation Loss: 0.0061\n",
            "Epoch 3/50, Loss: 0.0141, MAE: 0.0914, Validation Loss: 0.0114\n",
            "Epoch 4/50, Loss: 0.0117, MAE: 0.0863, Validation Loss: 0.0053\n",
            "Epoch 5/50, Loss: 0.0093, MAE: 0.0778, Validation Loss: 0.0056\n",
            "Epoch 6/50, Loss: 0.0096, MAE: 0.0789, Validation Loss: 0.0049\n",
            "Epoch 7/50, Loss: 0.0083, MAE: 0.0721, Validation Loss: 0.0048\n",
            "Epoch 8/50, Loss: 0.0080, MAE: 0.0709, Validation Loss: 0.0044\n",
            "Epoch 9/50, Loss: 0.0064, MAE: 0.0629, Validation Loss: 0.0028\n",
            "Epoch 10/50, Loss: 0.0048, MAE: 0.0557, Validation Loss: 0.0009\n",
            "Epoch 11/50, Loss: 0.0030, MAE: 0.0439, Validation Loss: 0.0001\n",
            "Epoch 12/50, Loss: 0.0024, MAE: 0.0380, Validation Loss: 0.0008\n",
            "Epoch 13/50, Loss: 0.0024, MAE: 0.0392, Validation Loss: 0.0001\n",
            "Epoch 14/50, Loss: 0.0023, MAE: 0.0373, Validation Loss: 0.0002\n",
            "Epoch 15/50, Loss: 0.0019, MAE: 0.0355, Validation Loss: 0.0001\n",
            "Epoch 16/50, Loss: 0.0016, MAE: 0.0318, Validation Loss: 0.0001\n",
            "Epoch 17/50, Loss: 0.0015, MAE: 0.0310, Validation Loss: 0.0001\n",
            "Epoch 18/50, Loss: 0.0014, MAE: 0.0298, Validation Loss: 0.0002\n",
            "Epoch 19/50, Loss: 0.0015, MAE: 0.0304, Validation Loss: 0.0001\n",
            "Epoch 20/50, Loss: 0.0013, MAE: 0.0284, Validation Loss: 0.0001\n",
            "Epoch 21/50, Loss: 0.0014, MAE: 0.0292, Validation Loss: 0.0001\n",
            "Epoch 22/50, Loss: 0.0012, MAE: 0.0271, Validation Loss: 0.0001\n",
            "Epoch 23/50, Loss: 0.0012, MAE: 0.0269, Validation Loss: 0.0001\n",
            "Epoch 24/50, Loss: 0.0011, MAE: 0.0259, Validation Loss: 0.0007\n",
            "Epoch 25/50, Loss: 0.0012, MAE: 0.0278, Validation Loss: 0.0005\n",
            "Epoch 26/50, Loss: 0.0010, MAE: 0.0257, Validation Loss: 0.0001\n",
            "Epoch 27/50, Loss: 0.0009, MAE: 0.0240, Validation Loss: 0.0001\n",
            "Epoch 28/50, Loss: 0.0009, MAE: 0.0236, Validation Loss: 0.0001\n",
            "Epoch 29/50, Loss: 0.0008, MAE: 0.0216, Validation Loss: 0.0002\n",
            "Epoch 30/50, Loss: 0.0008, MAE: 0.0225, Validation Loss: 0.0001\n",
            "Epoch 31/50, Loss: 0.0008, MAE: 0.0220, Validation Loss: 0.0002\n",
            "Epoch 32/50, Loss: 0.0008, MAE: 0.0224, Validation Loss: 0.0001\n",
            "Epoch 33/50, Loss: 0.0006, MAE: 0.0200, Validation Loss: 0.0002\n",
            "Epoch 34/50, Loss: 0.0007, MAE: 0.0202, Validation Loss: 0.0001\n",
            "Epoch 35/50, Loss: 0.0006, MAE: 0.0192, Validation Loss: 0.0001\n",
            "Epoch 36/50, Loss: 0.0006, MAE: 0.0196, Validation Loss: 0.0002\n",
            "Epoch 37/50, Loss: 0.0006, MAE: 0.0196, Validation Loss: 0.0001\n",
            "Epoch 38/50, Loss: 0.0006, MAE: 0.0190, Validation Loss: 0.0001\n",
            "Epoch 39/50, Loss: 0.0006, MAE: 0.0181, Validation Loss: 0.0002\n",
            "Epoch 40/50, Loss: 0.0006, MAE: 0.0184, Validation Loss: 0.0001\n",
            "Epoch 41/50, Loss: 0.0005, MAE: 0.0174, Validation Loss: 0.0001\n",
            "Epoch 42/50, Loss: 0.0005, MAE: 0.0178, Validation Loss: 0.0001\n",
            "Epoch 43/50, Loss: 0.0005, MAE: 0.0177, Validation Loss: 0.0001\n",
            "Epoch 44/50, Loss: 0.0005, MAE: 0.0171, Validation Loss: 0.0001\n",
            "Epoch 45/50, Loss: 0.0005, MAE: 0.0164, Validation Loss: 0.0002\n",
            "Epoch 46/50, Loss: 0.0005, MAE: 0.0167, Validation Loss: 0.0001\n",
            "Epoch 47/50, Loss: 0.0004, MAE: 0.0154, Validation Loss: 0.0001\n",
            "Epoch 48/50, Loss: 0.0005, MAE: 0.0166, Validation Loss: 0.0001\n",
            "Epoch 49/50, Loss: 0.0004, MAE: 0.0159, Validation Loss: 0.0001\n",
            "Epoch 50/50, Loss: 0.0005, MAE: 0.0171, Validation Loss: 0.0001\n"
          ]
        }
      ]
    },
    {
      "cell_type": "markdown",
      "source": [
        "#### Validation and Training Loss"
      ],
      "metadata": {
        "id": "_xDBW-vz1vw2"
      }
    },
    {
      "cell_type": "code",
      "source": [
        "\n",
        "plt.figure(figsize=(10, 6))\n",
        "\n",
        "plt.plot(range(1, len(train_losses) + 1), train_losses, label='Training Loss')\n",
        "\n",
        "plt.plot(range(1, len(val_losses) + 1), val_losses, label='Validation Loss')\n",
        "\n",
        "plt.xlabel('Epochs')\n",
        "plt.ylabel('Loss')\n",
        "plt.title('Training and Validation Loss over Epochs')\n",
        "\n",
        "plt.legend()\n",
        "\n",
        "plt.show()\n"
      ],
      "metadata": {
        "colab": {
          "base_uri": "https://localhost:8080/",
          "height": 564
        },
        "id": "9UlEGsHZXl_S",
        "outputId": "7d22eb59-3bad-4839-9efe-c11bd20b89a0"
      },
      "execution_count": 55,
      "outputs": [
        {
          "output_type": "display_data",
          "data": {
            "text/plain": [
              "<Figure size 1000x600 with 1 Axes>"
            ],
            "image/png": "[encoded data removed]"
          },
          "metadata": {}
        }
      ]
    },
    {
      "cell_type": "markdown",
      "metadata": {
        "id": "IO97QD361hy7"
      },
      "source": [
        "### Evaluate the Model"
      ]
    },
    {
      "cell_type": "code",
      "source": [
        "from sklearn.metrics import mean_squared_error, mean_absolute_error, r2_score\n",
        "import numpy as np\n",
        "\n",
        "# Set model to evaluation mode\n",
        "model.eval()\n",
        "\n",
        "y_pred = []\n",
        "y_true = []\n",
        "\n",
        "\n",
        "with torch.no_grad():\n",
        "    for X_batch, y_batch in test_loader:\n",
        "        output = model(X_batch)\n",
        "\n",
        "        y_pred.append(output)\n",
        "        y_true.append(y_batch)\n",
        "\n",
        "# Concatenate the predictions and actual values from all batches\n",
        "y_pred = torch.cat(y_pred, dim=0).numpy()\n",
        "y_true = torch.cat(y_true, dim=0).numpy()\n",
        "\n",
        "\n",
        "# the required metrics\n",
        "mse = mean_squared_error(y_true, y_pred)\n",
        "mae = mean_absolute_error(y_true, y_pred)\n",
        "mape = np.mean(np.abs((y_true - y_pred) / y_true)) * 100\n",
        "rmse = np.sqrt(mse)\n",
        "r2 = r2_score(y_true, y_pred)\n",
        "\n",
        "\n",
        "print(f\"MSE: {mse:.4f}\")\n",
        "print(f\"MAE: {mae:.4f}\")\n",
        "print(f\"MAPE: {mape:.4f}%\")\n",
        "print(f\"RMSE: {rmse:.4f}\")\n",
        "print(f\"R-squared: {r2:.4f}\")"
      ],
      "metadata": {
        "colab": {
          "base_uri": "https://localhost:8080/"
        },
        "id": "2TFbZoBIFAsA",
        "outputId": "6929f396-ef40-497b-e151-a7a38f6b5957"
      },
      "execution_count": 56,
      "outputs": [
        {
          "output_type": "stream",
          "name": "stdout",
          "text": [
            "MSE: 0.0038\n",
            "MAE: 0.0496\n",
            "MAPE: 30.9835%\n",
            "RMSE: 0.0613\n",
            "R-squared: 0.8634\n"
          ]
        }
      ]
    },
    {
      "cell_type": "markdown",
      "source": [
        "#### Save the model"
      ],
      "metadata": {
        "id": "QSrT9wdMcGPq"
      }
    },
    {
      "cell_type": "code",
      "source": [
        "\n",
        "torch.save(model, model_path)\n"
      ],
      "metadata": {
        "id": "J3DXd30TcFPE"
      },
      "execution_count": 57,
      "outputs": []
    },
    {
      "cell_type": "code",
      "source": [
        "\n",
        "model = torch.load(model_path)\n",
        "\n",
        "model.eval()\n"
      ],
      "metadata": {
        "id": "Goo99TF4cUcF"
      },
      "execution_count": null,
      "outputs": []
    },
    {
      "cell_type": "markdown",
      "source": [
        "#### True and Predicted Prices"
      ],
      "metadata": {
        "id": "otE91l6wYLGb"
      }
    },
    {
      "cell_type": "code",
      "source": [
        "import matplotlib.pyplot as plt\n",
        "\n",
        "# Set the model to evaluation mode\n",
        "model.eval()\n",
        "\n",
        "\n",
        "y_true = []\n",
        "y_pred = []\n",
        "\n",
        "with torch.no_grad():\n",
        "    for X_batch, y_batch in val_loader:\n",
        "\n",
        "        predictions = model(X_batch)\n",
        "\n",
        "        # Append the actual and predicted values to the lists\n",
        "        y_true.append(y_batch.numpy())\n",
        "        y_pred.append(predictions.numpy())\n",
        "\n",
        "# Convert the lists to numpy arrays\n",
        "y_true = np.concatenate(y_true, axis=0)\n",
        "y_pred = np.concatenate(y_pred, axis=0)\n",
        "\n",
        "\n",
        "\n",
        "plt.figure(figsize=(10, 6))\n",
        "plt.plot(y_true[:100], label='Actual Prices')\n",
        "plt.plot(y_pred[:100], label='Predicted Prices')\n",
        "plt.title('Actual vs Predicted Prices')\n",
        "plt.xlabel('Time')\n",
        "plt.ylabel('Price')\n",
        "plt.legend()\n",
        "plt.show()\n"
      ],
      "metadata": {
        "colab": {
          "base_uri": "https://localhost:8080/",
          "height": 564
        },
        "id": "xye-FVkIYQPe",
        "outputId": "0af055ff-28f1-4bf5-fa70-2f24dfbbdf8c"
      },
      "execution_count": 59,
      "outputs": [
        {
          "output_type": "display_data",
          "data": {
            "text/plain": [
              "<Figure size 1000x600 with 1 Axes>"
            ],
            "image/png": "[encoded data removed]"
          },
          "metadata": {}
        }
      ]
    }
  ],
  "metadata": {
    "colab": {
      "provenance": [],
      "include_colab_link": true
    },
    "kernelspec": {
      "display_name": "Python 3",
      "name": "python3"
    },
    "language_info": {
      "name": "python"
    }
  },
  "nbformat": 4,
  "nbformat_minor": 0
}