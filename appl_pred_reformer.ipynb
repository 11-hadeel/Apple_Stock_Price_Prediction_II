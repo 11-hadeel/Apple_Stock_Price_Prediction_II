{
  "cells": [
    {
      "cell_type": "markdown",
      "metadata": {
        "id": "view-in-github",
        "colab_type": "text"
      },
      "source": [
        "<a href=\"https://colab.research.google.com/github/jujuGthb/Apple_Stock_Price_Prediction_II/blob/main/appl_pred_reformer.ipynb\" target=\"_parent\"><img src=\"https://colab.research.google.com/assets/colab-badge.svg\" alt=\"Open In Colab\"/></a>"
      ]
    },
    {
      "cell_type": "code",
      "execution_count": 41,
      "metadata": {
        "colab": {
          "base_uri": "https://localhost:8080/"
        },
        "id": "nKfmIx_XSjnc",
        "outputId": "8f834d87-1b15-46ac-acea-dc2f2a0d3c7b"
      },
      "outputs": [
        {
          "output_type": "stream",
          "name": "stdout",
          "text": [
            "Mounted at /content/drive\n"
          ]
        }
      ],
      "source": [
        "from google.colab import drive\n",
        "drive.mount('/content/drive')"
      ]
    },
    {
      "cell_type": "code",
      "execution_count": 42,
      "metadata": {
        "id": "Uyvc3P7CSxQR"
      },
      "outputs": [],
      "source": [
        "import os\n",
        "project_dir = os.path.join('/content/drive/My Drive/Colab Notebooks')\n",
        "model_path = os.path.join(project_dir, 'aapl_stock_prediction_reformer.keras')\n"
      ]
    },
    {
      "cell_type": "code",
      "execution_count": null,
      "metadata": {
        "id": "sdt8kiq7REcA"
      },
      "outputs": [],
      "source": [
        "!pip install --upgrade yfinance\n",
        "!pip install seaborn\n",
        "!pip install matplotlib\n",
        "!pip install scikit-learn"
      ]
    },
    {
      "cell_type": "code",
      "execution_count": 2,
      "metadata": {
        "id": "YxMqCQowRjrF"
      },
      "outputs": [],
      "source": [
        "import yfinance as yf\n",
        "import time\n",
        "import pandas as pd\n",
        "import seaborn as sns\n",
        "import matplotlib.pyplot as plt\n",
        "from sklearn.preprocessing import StandardScaler"
      ]
    },
    {
      "cell_type": "markdown",
      "source": [
        "## Data Collection"
      ],
      "metadata": {
        "id": "B2C-7rSYc2YS"
      }
    },
    {
      "cell_type": "code",
      "execution_count": 3,
      "metadata": {
        "colab": {
          "base_uri": "https://localhost:8080/"
        },
        "id": "8vZpscl6R4-6",
        "outputId": "7a7c4898-5340-49ab-eed8-ef7f7405cce3"
      },
      "outputs": [
        {
          "output_type": "stream",
          "name": "stderr",
          "text": [
            "\r[*********************100%***********************]  1 of 1 completed"
          ]
        },
        {
          "output_type": "stream",
          "name": "stdout",
          "text": [
            "Download successful!\n",
            "Number of records downloaded: 5033\n"
          ]
        },
        {
          "output_type": "stream",
          "name": "stderr",
          "text": [
            "\n"
          ]
        }
      ],
      "source": [
        "def download_data_with_retry(ticker, start, end, interval, max_retries=5, delay=5):\n",
        "    for attempt in range(max_retries):\n",
        "        try:\n",
        "            data = yf.download(ticker, start=start, end=end, interval=interval, auto_adjust=False)\n",
        "\n",
        "\n",
        "            print(\"Download successful!\")\n",
        "            return data\n",
        "        except Exception as e:\n",
        "            print(f\"Attempt {attempt + 1} failed: {e}\")\n",
        "            time.sleep(delay)\n",
        "    print(\"All retry attempts failed.\")\n",
        "    return None\n",
        "\n",
        "# parameters\n",
        "ticker = 'AAPL'\n",
        "start_date = '2004-01-01'\n",
        "end_date = '2024-01-01'\n",
        "interval = '1d'\n",
        "\n",
        "# Downloading data\n",
        "data = download_data_with_retry(ticker, start_date, end_date, interval)\n",
        "\n",
        "\n",
        "if data is not None:\n",
        "    print(f\"Number of records downloaded: {len(data)}\")\n",
        "else:\n",
        "    print(\"Data download failed.\")"
      ]
    },
    {
      "cell_type": "code",
      "execution_count": 4,
      "metadata": {
        "id": "Hbrk8Gf_fWd-",
        "colab": {
          "base_uri": "https://localhost:8080/",
          "height": 269
        },
        "outputId": "bd0f664c-ab1d-48db-f3cb-f34b3f2a9132"
      },
      "outputs": [
        {
          "output_type": "execute_result",
          "data": {
            "text/plain": [
              "Price      Adj Close     Close      High       Low      Open     Volume\n",
              "Ticker          AAPL      AAPL      AAPL      AAPL      AAPL       AAPL\n",
              "Date                                                                   \n",
              "2004-01-02  0.320548  0.380000  0.388393  0.378214  0.384821  144642400\n",
              "2004-01-05  0.333954  0.395893  0.399821  0.382500  0.382500  395018400\n",
              "2004-01-06  0.332749  0.394464  0.400357  0.387679  0.397321  509348000\n",
              "2004-01-07  0.340281  0.403393  0.407679  0.391607  0.394643  586874400\n",
              "2004-01-08  0.351880  0.417143  0.423750  0.404464  0.407857  460303200"
            ],
            "text/html": [
              "\n",
              "  <div id=\"df-c50f5c5b-b96b-4160-956a-53569e8b3637\" class=\"colab-df-container\">\n",
              "    <div>\n",
              "<style scoped>\n",
              "    .dataframe tbody tr th:only-of-type {\n",
              "        vertical-align: middle;\n",
              "    }\n",
              "\n",
              "    .dataframe tbody tr th {\n",
              "        vertical-align: top;\n",
              "    }\n",
              "\n",
              "    .dataframe thead tr th {\n",
              "        text-align: left;\n",
              "    }\n",
              "\n",
              "    .dataframe thead tr:last-of-type th {\n",
              "        text-align: right;\n",
              "    }\n",
              "</style>\n",
              "<table border=\"1\" class=\"dataframe\">\n",
              "  <thead>\n",
              "    <tr>\n",
              "      <th>Price</th>\n",
              "      <th>Adj Close</th>\n",
              "      <th>Close</th>\n",
              "      <th>High</th>\n",
              "      <th>Low</th>\n",
              "      <th>Open</th>\n",
              "      <th>Volume</th>\n",
              "    </tr>\n",
              "    <tr>\n",
              "      <th>Ticker</th>\n",
              "      <th>AAPL</th>\n",
              "      <th>AAPL</th>\n",
              "      <th>AAPL</th>\n",
              "      <th>AAPL</th>\n",
              "      <th>AAPL</th>\n",
              "      <th>AAPL</th>\n",
              "    </tr>\n",
              "    <tr>\n",
              "      <th>Date</th>\n",
              "      <th></th>\n",
              "      <th></th>\n",
              "      <th></th>\n",
              "      <th></th>\n",
              "      <th></th>\n",
              "      <th></th>\n",
              "    </tr>\n",
              "  </thead>\n",
              "  <tbody>\n",
              "    <tr>\n",
              "      <th>2004-01-02</th>\n",
              "      <td>0.320548</td>\n",
              "      <td>0.380000</td>\n",
              "      <td>0.388393</td>\n",
              "      <td>0.378214</td>\n",
              "      <td>0.384821</td>\n",
              "      <td>144642400</td>\n",
              "    </tr>\n",
              "    <tr>\n",
              "      <th>2004-01-05</th>\n",
              "      <td>0.333954</td>\n",
              "      <td>0.395893</td>\n",
              "      <td>0.399821</td>\n",
              "      <td>0.382500</td>\n",
              "      <td>0.382500</td>\n",
              "      <td>395018400</td>\n",
              "    </tr>\n",
              "    <tr>\n",
              "      <th>2004-01-06</th>\n",
              "      <td>0.332749</td>\n",
              "      <td>0.394464</td>\n",
              "      <td>0.400357</td>\n",
              "      <td>0.387679</td>\n",
              "      <td>0.397321</td>\n",
              "      <td>509348000</td>\n",
              "    </tr>\n",
              "    <tr>\n",
              "      <th>2004-01-07</th>\n",
              "      <td>0.340281</td>\n",
              "      <td>0.403393</td>\n",
              "      <td>0.407679</td>\n",
              "      <td>0.391607</td>\n",
              "      <td>0.394643</td>\n",
              "      <td>586874400</td>\n",
              "    </tr>\n",
              "    <tr>\n",
              "      <th>2004-01-08</th>\n",
              "      <td>0.351880</td>\n",
              "      <td>0.417143</td>\n",
              "      <td>0.423750</td>\n",
              "      <td>0.404464</td>\n",
              "      <td>0.407857</td>\n",
              "      <td>460303200</td>\n",
              "    </tr>\n",
              "  </tbody>\n",
              "</table>\n",
              "</div>\n",
              "    <div class=\"colab-df-buttons\">\n",
              "\n",
              "  <div class=\"colab-df-container\">\n",
              "    <button class=\"colab-df-convert\" onclick=\"convertToInteractive('df-c50f5c5b-b96b-4160-956a-53569e8b3637')\"\n",
              "            title=\"Convert this dataframe to an interactive table.\"\n",
              "            style=\"display:none;\">\n",
              "\n",
              "  <svg xmlns=\"http://www.w3.org/2000/svg\" height=\"24px\" viewBox=\"0 -960 960 960\">\n",
              "    <path d=\"M120-120v-720h720v720H120Zm60-500h600v-160H180v160Zm220 220h160v-160H400v160Zm0 220h160v-160H400v160ZM180-400h160v-160H180v160Zm440 0h160v-160H620v160ZM180-180h160v-160H180v160Zm440 0h160v-160H620v160Z\"/>\n",
              "  </svg>\n",
              "    </button>\n",
              "\n",
              "  <style>\n",
              "    .colab-df-container {\n",
              "      display:flex;\n",
              "      gap: 12px;\n",
              "    }\n",
              "\n",
              "    .colab-df-convert {\n",
              "      background-color: #E8F0FE;\n",
              "      border: none;\n",
              "      border-radius: 50%;\n",
              "      cursor: pointer;\n",
              "      display: none;\n",
              "      fill: #1967D2;\n",
              "      height: 32px;\n",
              "      padding: 0 0 0 0;\n",
              "      width: 32px;\n",
              "    }\n",
              "\n",
              "    .colab-df-convert:hover {\n",
              "      background-color: #E2EBFA;\n",
              "      box-shadow: 0px 1px 2px rgba(60, 64, 67, 0.3), 0px 1px 3px 1px rgba(60, 64, 67, 0.15);\n",
              "      fill: #174EA6;\n",
              "    }\n",
              "\n",
              "    .colab-df-buttons div {\n",
              "      margin-bottom: 4px;\n",
              "    }\n",
              "\n",
              "    [theme=dark] .colab-df-convert {\n",
              "      background-color: #3B4455;\n",
              "      fill: #D2E3FC;\n",
              "    }\n",
              "\n",
              "    [theme=dark] .colab-df-convert:hover {\n",
              "      background-color: #434B5C;\n",
              "      box-shadow: 0px 1px 3px 1px rgba(0, 0, 0, 0.15);\n",
              "      filter: drop-shadow(0px 1px 2px rgba(0, 0, 0, 0.3));\n",
              "      fill: #FFFFFF;\n",
              "    }\n",
              "  </style>\n",
              "\n",
              "    <script>\n",
              "      const buttonEl =\n",
              "        document.querySelector('#df-c50f5c5b-b96b-4160-956a-53569e8b3637 button.colab-df-convert');\n",
              "      buttonEl.style.display =\n",
              "        google.colab.kernel.accessAllowed ? 'block' : 'none';\n",
              "\n",
              "      async function convertToInteractive(key) {\n",
              "        const element = document.querySelector('#df-c50f5c5b-b96b-4160-956a-53569e8b3637');\n",
              "        const dataTable =\n",
              "          await google.colab.kernel.invokeFunction('convertToInteractive',\n",
              "                                                    [key], {});\n",
              "        if (!dataTable) return;\n",
              "\n",
              "        const docLinkHtml = 'Like what you see? Visit the ' +\n",
              "          '<a target=\"_blank\" href=https://colab.research.google.com/notebooks/data_table.ipynb>data table notebook</a>'\n",
              "          + ' to learn more about interactive tables.';\n",
              "        element.innerHTML = '';\n",
              "        dataTable['output_type'] = 'display_data';\n",
              "        await google.colab.output.renderOutput(dataTable, element);\n",
              "        const docLink = document.createElement('div');\n",
              "        docLink.innerHTML = docLinkHtml;\n",
              "        element.appendChild(docLink);\n",
              "      }\n",
              "    </script>\n",
              "  </div>\n",
              "\n",
              "\n",
              "<div id=\"df-d14a97ff-cdfa-406c-8818-cf1db7cc9581\">\n",
              "  <button class=\"colab-df-quickchart\" onclick=\"quickchart('df-d14a97ff-cdfa-406c-8818-cf1db7cc9581')\"\n",
              "            title=\"Suggest charts\"\n",
              "            style=\"display:none;\">\n",
              "\n",
              "<svg xmlns=\"http://www.w3.org/2000/svg\" height=\"24px\"viewBox=\"0 0 24 24\"\n",
              "     width=\"24px\">\n",
              "    <g>\n",
              "        <path d=\"M19 3H5c-1.1 0-2 .9-2 2v14c0 1.1.9 2 2 2h14c1.1 0 2-.9 2-2V5c0-1.1-.9-2-2-2zM9 17H7v-7h2v7zm4 0h-2V7h2v10zm4 0h-2v-4h2v4z\"/>\n",
              "    </g>\n",
              "</svg>\n",
              "  </button>\n",
              "\n",
              "<style>\n",
              "  .colab-df-quickchart {\n",
              "      --bg-color: #E8F0FE;\n",
              "      --fill-color: #1967D2;\n",
              "      --hover-bg-color: #E2EBFA;\n",
              "      --hover-fill-color: #174EA6;\n",
              "      --disabled-fill-color: #AAA;\n",
              "      --disabled-bg-color: #DDD;\n",
              "  }\n",
              "\n",
              "  [theme=dark] .colab-df-quickchart {\n",
              "      --bg-color: #3B4455;\n",
              "      --fill-color: #D2E3FC;\n",
              "      --hover-bg-color: #434B5C;\n",
              "      --hover-fill-color: #FFFFFF;\n",
              "      --disabled-bg-color: #3B4455;\n",
              "      --disabled-fill-color: #666;\n",
              "  }\n",
              "\n",
              "  .colab-df-quickchart {\n",
              "    background-color: var(--bg-color);\n",
              "    border: none;\n",
              "    border-radius: 50%;\n",
              "    cursor: pointer;\n",
              "    display: none;\n",
              "    fill: var(--fill-color);\n",
              "    height: 32px;\n",
              "    padding: 0;\n",
              "    width: 32px;\n",
              "  }\n",
              "\n",
              "  .colab-df-quickchart:hover {\n",
              "    background-color: var(--hover-bg-color);\n",
              "    box-shadow: 0 1px 2px rgba(60, 64, 67, 0.3), 0 1px 3px 1px rgba(60, 64, 67, 0.15);\n",
              "    fill: var(--button-hover-fill-color);\n",
              "  }\n",
              "\n",
              "  .colab-df-quickchart-complete:disabled,\n",
              "  .colab-df-quickchart-complete:disabled:hover {\n",
              "    background-color: var(--disabled-bg-color);\n",
              "    fill: var(--disabled-fill-color);\n",
              "    box-shadow: none;\n",
              "  }\n",
              "\n",
              "  .colab-df-spinner {\n",
              "    border: 2px solid var(--fill-color);\n",
              "    border-color: transparent;\n",
              "    border-bottom-color: var(--fill-color);\n",
              "    animation:\n",
              "      spin 1s steps(1) infinite;\n",
              "  }\n",
              "\n",
              "  @keyframes spin {\n",
              "    0% {\n",
              "      border-color: transparent;\n",
              "      border-bottom-color: var(--fill-color);\n",
              "      border-left-color: var(--fill-color);\n",
              "    }\n",
              "    20% {\n",
              "      border-color: transparent;\n",
              "      border-left-color: var(--fill-color);\n",
              "      border-top-color: var(--fill-color);\n",
              "    }\n",
              "    30% {\n",
              "      border-color: transparent;\n",
              "      border-left-color: var(--fill-color);\n",
              "      border-top-color: var(--fill-color);\n",
              "      border-right-color: var(--fill-color);\n",
              "    }\n",
              "    40% {\n",
              "      border-color: transparent;\n",
              "      border-right-color: var(--fill-color);\n",
              "      border-top-color: var(--fill-color);\n",
              "    }\n",
              "    60% {\n",
              "      border-color: transparent;\n",
              "      border-right-color: var(--fill-color);\n",
              "    }\n",
              "    80% {\n",
              "      border-color: transparent;\n",
              "      border-right-color: var(--fill-color);\n",
              "      border-bottom-color: var(--fill-color);\n",
              "    }\n",
              "    90% {\n",
              "      border-color: transparent;\n",
              "      border-bottom-color: var(--fill-color);\n",
              "    }\n",
              "  }\n",
              "</style>\n",
              "\n",
              "  <script>\n",
              "    async function quickchart(key) {\n",
              "      const quickchartButtonEl =\n",
              "        document.querySelector('#' + key + ' button');\n",
              "      quickchartButtonEl.disabled = true;  // To prevent multiple clicks.\n",
              "      quickchartButtonEl.classList.add('colab-df-spinner');\n",
              "      try {\n",
              "        const charts = await google.colab.kernel.invokeFunction(\n",
              "            'suggestCharts', [key], {});\n",
              "      } catch (error) {\n",
              "        console.error('Error during call to suggestCharts:', error);\n",
              "      }\n",
              "      quickchartButtonEl.classList.remove('colab-df-spinner');\n",
              "      quickchartButtonEl.classList.add('colab-df-quickchart-complete');\n",
              "    }\n",
              "    (() => {\n",
              "      let quickchartButtonEl =\n",
              "        document.querySelector('#df-d14a97ff-cdfa-406c-8818-cf1db7cc9581 button');\n",
              "      quickchartButtonEl.style.display =\n",
              "        google.colab.kernel.accessAllowed ? 'block' : 'none';\n",
              "    })();\n",
              "  </script>\n",
              "</div>\n",
              "\n",
              "    </div>\n",
              "  </div>\n"
            ],
            "application/vnd.google.colaboratory.intrinsic+json": {
              "type": "dataframe",
              "variable_name": "data",
              "summary": "{\n  \"name\": \"data\",\n  \"rows\": 5033,\n  \"fields\": [\n    {\n      \"column\": [\n        \"Date\",\n        \"\"\n      ],\n      \"properties\": {\n        \"dtype\": \"date\",\n        \"min\": \"2004-01-02 00:00:00\",\n        \"max\": \"2023-12-29 00:00:00\",\n        \"num_unique_values\": 5033,\n        \"samples\": [\n          \"2012-10-10 00:00:00\",\n          \"2011-02-09 00:00:00\",\n          \"2016-06-07 00:00:00\"\n        ],\n        \"semantic_type\": \"\",\n        \"description\": \"\"\n      }\n    },\n    {\n      \"column\": [\n        \"Adj Close\",\n        \"AAPL\"\n      ],\n      \"properties\": {\n        \"dtype\": \"number\",\n        \"std\": 52.86769779497614,\n        \"min\": 0.3205479681491852,\n        \"max\": 197.14418029785156,\n        \"num_unique_values\": 4915,\n        \"samples\": [\n          15.56156063079834,\n          146.92530822753906,\n          2.7605085372924805\n        ],\n        \"semantic_type\": \"\",\n        \"description\": \"\"\n      }\n    },\n    {\n      \"column\": [\n        \"Close\",\n        \"AAPL\"\n      ],\n      \"properties\": {\n        \"dtype\": \"number\",\n        \"std\": 53.16285778984278,\n        \"min\": 0.3799999952316284,\n        \"max\": 198.11000061035156,\n        \"num_unique_values\": 4805,\n        \"samples\": [\n          7.4185709953308105,\n          23.5674991607666,\n          3.585714101791382\n        ],\n        \"semantic_type\": \"\",\n        \"description\": \"\"\n      }\n    },\n    {\n      \"column\": [\n        \"High\",\n        \"AAPL\"\n      ],\n      \"properties\": {\n        \"dtype\": \"number\",\n        \"std\": 53.70248501593599,\n        \"min\": 0.38839301466941833,\n        \"max\": 199.6199951171875,\n        \"num_unique_values\": 4754,\n        \"samples\": [\n          3.0714290142059326,\n          28.362499237060547,\n          23.0\n        ],\n        \"semantic_type\": \"\",\n        \"description\": \"\"\n      }\n    },\n    {\n      \"column\": [\n        \"Low\",\n        \"AAPL\"\n      ],\n      \"properties\": {\n        \"dtype\": \"number\",\n        \"std\": 52.56591112208238,\n        \"min\": 0.3782140016555786,\n        \"max\": 197.0,\n        \"num_unique_values\": 4778,\n        \"samples\": [\n          0.4446429908275604,\n          2.4124999046325684,\n          44.54249954223633\n        ],\n        \"semantic_type\": \"\",\n        \"description\": \"\"\n      }\n    },\n    {\n      \"column\": [\n        \"Open\",\n        \"AAPL\"\n      ],\n      \"properties\": {\n        \"dtype\": \"number\",\n        \"std\": 53.11132149699638,\n        \"min\": 0.3824999928474426,\n        \"max\": 198.02000427246094,\n        \"num_unique_values\": 4796,\n        \"samples\": [\n          2.606786012649536,\n          5.491786003112793,\n          11.872857093811035\n        ],\n        \"semantic_type\": \"\",\n        \"description\": \"\"\n      }\n    },\n    {\n      \"column\": [\n        \"Volume\",\n        \"AAPL\"\n      ],\n      \"properties\": {\n        \"dtype\": \"number\",\n        \"std\": 396875458,\n        \"min\": 24048300,\n        \"max\": 3372969600,\n        \"num_unique_values\": 5016,\n        \"samples\": [\n          337377600,\n          145516400,\n          85553200\n        ],\n        \"semantic_type\": \"\",\n        \"description\": \"\"\n      }\n    }\n  ]\n}"
            }
          },
          "metadata": {},
          "execution_count": 4
        }
      ],
      "source": [
        "data.head(5)"
      ]
    },
    {
      "cell_type": "markdown",
      "source": [
        "##### Checking  MultiIndex columns"
      ],
      "metadata": {
        "id": "G5Sxg5zE0lW7"
      }
    },
    {
      "cell_type": "code",
      "execution_count": 5,
      "metadata": {
        "id": "Bn4wFEmfSH_y"
      },
      "outputs": [],
      "source": [
        "\n",
        "if isinstance(data.columns, pd.MultiIndex):\n",
        "\n",
        "    data.columns = data.columns.droplevel(0)\n",
        "\n",
        "data.columns = ['adj Close', 'Close', 'High', 'Low', 'Open', 'Volume']"
      ]
    },
    {
      "cell_type": "code",
      "execution_count": 7,
      "metadata": {
        "id": "sY7qps-DSW4J",
        "colab": {
          "base_uri": "https://localhost:8080/",
          "height": 237
        },
        "outputId": "b9d52067-3a5f-4a22-e8d6-f6aac865b0b8"
      },
      "outputs": [
        {
          "output_type": "execute_result",
          "data": {
            "text/plain": [
              "            adj Close  Close  High   Low  Open     Volume\n",
              "Date                                                     \n",
              "2004-01-02       0.32   0.38  0.39  0.38  0.38  144642400\n",
              "2004-01-05       0.33   0.40  0.40  0.38  0.38  395018400\n",
              "2004-01-06       0.33   0.39  0.40  0.39  0.40  509348000\n",
              "2004-01-07       0.34   0.40  0.41  0.39  0.39  586874400\n",
              "2004-01-08       0.35   0.42  0.42  0.40  0.41  460303200"
            ],
            "text/html": [
              "\n",
              "  <div id=\"df-30526ddf-885f-48d5-bb23-475373ed84ad\" class=\"colab-df-container\">\n",
              "    <div>\n",
              "<style scoped>\n",
              "    .dataframe tbody tr th:only-of-type {\n",
              "        vertical-align: middle;\n",
              "    }\n",
              "\n",
              "    .dataframe tbody tr th {\n",
              "        vertical-align: top;\n",
              "    }\n",
              "\n",
              "    .dataframe thead th {\n",
              "        text-align: right;\n",
              "    }\n",
              "</style>\n",
              "<table border=\"1\" class=\"dataframe\">\n",
              "  <thead>\n",
              "    <tr style=\"text-align: right;\">\n",
              "      <th></th>\n",
              "      <th>adj Close</th>\n",
              "      <th>Close</th>\n",
              "      <th>High</th>\n",
              "      <th>Low</th>\n",
              "      <th>Open</th>\n",
              "      <th>Volume</th>\n",
              "    </tr>\n",
              "    <tr>\n",
              "      <th>Date</th>\n",
              "      <th></th>\n",
              "      <th></th>\n",
              "      <th></th>\n",
              "      <th></th>\n",
              "      <th></th>\n",
              "      <th></th>\n",
              "    </tr>\n",
              "  </thead>\n",
              "  <tbody>\n",
              "    <tr>\n",
              "      <th>2004-01-02</th>\n",
              "      <td>0.32</td>\n",
              "      <td>0.38</td>\n",
              "      <td>0.39</td>\n",
              "      <td>0.38</td>\n",
              "      <td>0.38</td>\n",
              "      <td>144642400</td>\n",
              "    </tr>\n",
              "    <tr>\n",
              "      <th>2004-01-05</th>\n",
              "      <td>0.33</td>\n",
              "      <td>0.40</td>\n",
              "      <td>0.40</td>\n",
              "      <td>0.38</td>\n",
              "      <td>0.38</td>\n",
              "      <td>395018400</td>\n",
              "    </tr>\n",
              "    <tr>\n",
              "      <th>2004-01-06</th>\n",
              "      <td>0.33</td>\n",
              "      <td>0.39</td>\n",
              "      <td>0.40</td>\n",
              "      <td>0.39</td>\n",
              "      <td>0.40</td>\n",
              "      <td>509348000</td>\n",
              "    </tr>\n",
              "    <tr>\n",
              "      <th>2004-01-07</th>\n",
              "      <td>0.34</td>\n",
              "      <td>0.40</td>\n",
              "      <td>0.41</td>\n",
              "      <td>0.39</td>\n",
              "      <td>0.39</td>\n",
              "      <td>586874400</td>\n",
              "    </tr>\n",
              "    <tr>\n",
              "      <th>2004-01-08</th>\n",
              "      <td>0.35</td>\n",
              "      <td>0.42</td>\n",
              "      <td>0.42</td>\n",
              "      <td>0.40</td>\n",
              "      <td>0.41</td>\n",
              "      <td>460303200</td>\n",
              "    </tr>\n",
              "  </tbody>\n",
              "</table>\n",
              "</div>\n",
              "    <div class=\"colab-df-buttons\">\n",
              "\n",
              "  <div class=\"colab-df-container\">\n",
              "    <button class=\"colab-df-convert\" onclick=\"convertToInteractive('df-30526ddf-885f-48d5-bb23-475373ed84ad')\"\n",
              "            title=\"Convert this dataframe to an interactive table.\"\n",
              "            style=\"display:none;\">\n",
              "\n",
              "  <svg xmlns=\"http://www.w3.org/2000/svg\" height=\"24px\" viewBox=\"0 -960 960 960\">\n",
              "    <path d=\"M120-120v-720h720v720H120Zm60-500h600v-160H180v160Zm220 220h160v-160H400v160Zm0 220h160v-160H400v160ZM180-400h160v-160H180v160Zm440 0h160v-160H620v160ZM180-180h160v-160H180v160Zm440 0h160v-160H620v160Z\"/>\n",
              "  </svg>\n",
              "    </button>\n",
              "\n",
              "  <style>\n",
              "    .colab-df-container {\n",
              "      display:flex;\n",
              "      gap: 12px;\n",
              "    }\n",
              "\n",
              "    .colab-df-convert {\n",
              "      background-color: #E8F0FE;\n",
              "      border: none;\n",
              "      border-radius: 50%;\n",
              "      cursor: pointer;\n",
              "      display: none;\n",
              "      fill: #1967D2;\n",
              "      height: 32px;\n",
              "      padding: 0 0 0 0;\n",
              "      width: 32px;\n",
              "    }\n",
              "\n",
              "    .colab-df-convert:hover {\n",
              "      background-color: #E2EBFA;\n",
              "      box-shadow: 0px 1px 2px rgba(60, 64, 67, 0.3), 0px 1px 3px 1px rgba(60, 64, 67, 0.15);\n",
              "      fill: #174EA6;\n",
              "    }\n",
              "\n",
              "    .colab-df-buttons div {\n",
              "      margin-bottom: 4px;\n",
              "    }\n",
              "\n",
              "    [theme=dark] .colab-df-convert {\n",
              "      background-color: #3B4455;\n",
              "      fill: #D2E3FC;\n",
              "    }\n",
              "\n",
              "    [theme=dark] .colab-df-convert:hover {\n",
              "      background-color: #434B5C;\n",
              "      box-shadow: 0px 1px 3px 1px rgba(0, 0, 0, 0.15);\n",
              "      filter: drop-shadow(0px 1px 2px rgba(0, 0, 0, 0.3));\n",
              "      fill: #FFFFFF;\n",
              "    }\n",
              "  </style>\n",
              "\n",
              "    <script>\n",
              "      const buttonEl =\n",
              "        document.querySelector('#df-30526ddf-885f-48d5-bb23-475373ed84ad button.colab-df-convert');\n",
              "      buttonEl.style.display =\n",
              "        google.colab.kernel.accessAllowed ? 'block' : 'none';\n",
              "\n",
              "      async function convertToInteractive(key) {\n",
              "        const element = document.querySelector('#df-30526ddf-885f-48d5-bb23-475373ed84ad');\n",
              "        const dataTable =\n",
              "          await google.colab.kernel.invokeFunction('convertToInteractive',\n",
              "                                                    [key], {});\n",
              "        if (!dataTable) return;\n",
              "\n",
              "        const docLinkHtml = 'Like what you see? Visit the ' +\n",
              "          '<a target=\"_blank\" href=https://colab.research.google.com/notebooks/data_table.ipynb>data table notebook</a>'\n",
              "          + ' to learn more about interactive tables.';\n",
              "        element.innerHTML = '';\n",
              "        dataTable['output_type'] = 'display_data';\n",
              "        await google.colab.output.renderOutput(dataTable, element);\n",
              "        const docLink = document.createElement('div');\n",
              "        docLink.innerHTML = docLinkHtml;\n",
              "        element.appendChild(docLink);\n",
              "      }\n",
              "    </script>\n",
              "  </div>\n",
              "\n",
              "\n",
              "<div id=\"df-52006458-724d-4de9-9c9c-08f23811dec8\">\n",
              "  <button class=\"colab-df-quickchart\" onclick=\"quickchart('df-52006458-724d-4de9-9c9c-08f23811dec8')\"\n",
              "            title=\"Suggest charts\"\n",
              "            style=\"display:none;\">\n",
              "\n",
              "<svg xmlns=\"http://www.w3.org/2000/svg\" height=\"24px\"viewBox=\"0 0 24 24\"\n",
              "     width=\"24px\">\n",
              "    <g>\n",
              "        <path d=\"M19 3H5c-1.1 0-2 .9-2 2v14c0 1.1.9 2 2 2h14c1.1 0 2-.9 2-2V5c0-1.1-.9-2-2-2zM9 17H7v-7h2v7zm4 0h-2V7h2v10zm4 0h-2v-4h2v4z\"/>\n",
              "    </g>\n",
              "</svg>\n",
              "  </button>\n",
              "\n",
              "<style>\n",
              "  .colab-df-quickchart {\n",
              "      --bg-color: #E8F0FE;\n",
              "      --fill-color: #1967D2;\n",
              "      --hover-bg-color: #E2EBFA;\n",
              "      --hover-fill-color: #174EA6;\n",
              "      --disabled-fill-color: #AAA;\n",
              "      --disabled-bg-color: #DDD;\n",
              "  }\n",
              "\n",
              "  [theme=dark] .colab-df-quickchart {\n",
              "      --bg-color: #3B4455;\n",
              "      --fill-color: #D2E3FC;\n",
              "      --hover-bg-color: #434B5C;\n",
              "      --hover-fill-color: #FFFFFF;\n",
              "      --disabled-bg-color: #3B4455;\n",
              "      --disabled-fill-color: #666;\n",
              "  }\n",
              "\n",
              "  .colab-df-quickchart {\n",
              "    background-color: var(--bg-color);\n",
              "    border: none;\n",
              "    border-radius: 50%;\n",
              "    cursor: pointer;\n",
              "    display: none;\n",
              "    fill: var(--fill-color);\n",
              "    height: 32px;\n",
              "    padding: 0;\n",
              "    width: 32px;\n",
              "  }\n",
              "\n",
              "  .colab-df-quickchart:hover {\n",
              "    background-color: var(--hover-bg-color);\n",
              "    box-shadow: 0 1px 2px rgba(60, 64, 67, 0.3), 0 1px 3px 1px rgba(60, 64, 67, 0.15);\n",
              "    fill: var(--button-hover-fill-color);\n",
              "  }\n",
              "\n",
              "  .colab-df-quickchart-complete:disabled,\n",
              "  .colab-df-quickchart-complete:disabled:hover {\n",
              "    background-color: var(--disabled-bg-color);\n",
              "    fill: var(--disabled-fill-color);\n",
              "    box-shadow: none;\n",
              "  }\n",
              "\n",
              "  .colab-df-spinner {\n",
              "    border: 2px solid var(--fill-color);\n",
              "    border-color: transparent;\n",
              "    border-bottom-color: var(--fill-color);\n",
              "    animation:\n",
              "      spin 1s steps(1) infinite;\n",
              "  }\n",
              "\n",
              "  @keyframes spin {\n",
              "    0% {\n",
              "      border-color: transparent;\n",
              "      border-bottom-color: var(--fill-color);\n",
              "      border-left-color: var(--fill-color);\n",
              "    }\n",
              "    20% {\n",
              "      border-color: transparent;\n",
              "      border-left-color: var(--fill-color);\n",
              "      border-top-color: var(--fill-color);\n",
              "    }\n",
              "    30% {\n",
              "      border-color: transparent;\n",
              "      border-left-color: var(--fill-color);\n",
              "      border-top-color: var(--fill-color);\n",
              "      border-right-color: var(--fill-color);\n",
              "    }\n",
              "    40% {\n",
              "      border-color: transparent;\n",
              "      border-right-color: var(--fill-color);\n",
              "      border-top-color: var(--fill-color);\n",
              "    }\n",
              "    60% {\n",
              "      border-color: transparent;\n",
              "      border-right-color: var(--fill-color);\n",
              "    }\n",
              "    80% {\n",
              "      border-color: transparent;\n",
              "      border-right-color: var(--fill-color);\n",
              "      border-bottom-color: var(--fill-color);\n",
              "    }\n",
              "    90% {\n",
              "      border-color: transparent;\n",
              "      border-bottom-color: var(--fill-color);\n",
              "    }\n",
              "  }\n",
              "</style>\n",
              "\n",
              "  <script>\n",
              "    async function quickchart(key) {\n",
              "      const quickchartButtonEl =\n",
              "        document.querySelector('#' + key + ' button');\n",
              "      quickchartButtonEl.disabled = true;  // To prevent multiple clicks.\n",
              "      quickchartButtonEl.classList.add('colab-df-spinner');\n",
              "      try {\n",
              "        const charts = await google.colab.kernel.invokeFunction(\n",
              "            'suggestCharts', [key], {});\n",
              "      } catch (error) {\n",
              "        console.error('Error during call to suggestCharts:', error);\n",
              "      }\n",
              "      quickchartButtonEl.classList.remove('colab-df-spinner');\n",
              "      quickchartButtonEl.classList.add('colab-df-quickchart-complete');\n",
              "    }\n",
              "    (() => {\n",
              "      let quickchartButtonEl =\n",
              "        document.querySelector('#df-52006458-724d-4de9-9c9c-08f23811dec8 button');\n",
              "      quickchartButtonEl.style.display =\n",
              "        google.colab.kernel.accessAllowed ? 'block' : 'none';\n",
              "    })();\n",
              "  </script>\n",
              "</div>\n",
              "\n",
              "    </div>\n",
              "  </div>\n"
            ],
            "application/vnd.google.colaboratory.intrinsic+json": {
              "type": "dataframe",
              "variable_name": "data",
              "summary": "{\n  \"name\": \"data\",\n  \"rows\": 5033,\n  \"fields\": [\n    {\n      \"column\": \"Date\",\n      \"properties\": {\n        \"dtype\": \"date\",\n        \"min\": \"2004-01-02 00:00:00\",\n        \"max\": \"2023-12-29 00:00:00\",\n        \"num_unique_values\": 5033,\n        \"samples\": [\n          \"2012-10-10 00:00:00\",\n          \"2011-02-09 00:00:00\",\n          \"2016-06-07 00:00:00\"\n        ],\n        \"semantic_type\": \"\",\n        \"description\": \"\"\n      }\n    },\n    {\n      \"column\": \"adj Close\",\n      \"properties\": {\n        \"dtype\": \"number\",\n        \"std\": 52.86774189118969,\n        \"min\": 0.32,\n        \"max\": 197.14,\n        \"num_unique_values\": 3276,\n        \"samples\": [\n          163.36,\n          155.33,\n          26.16\n        ],\n        \"semantic_type\": \"\",\n        \"description\": \"\"\n      }\n    },\n    {\n      \"column\": \"Close\",\n      \"properties\": {\n        \"dtype\": \"number\",\n        \"std\": 53.162830612107385,\n        \"min\": 0.38,\n        \"max\": 198.11,\n        \"num_unique_values\": 3354,\n        \"samples\": [\n          4.98,\n          4.51,\n          65.43\n        ],\n        \"semantic_type\": \"\",\n        \"description\": \"\"\n      }\n    },\n    {\n      \"column\": \"High\",\n      \"properties\": {\n        \"dtype\": \"number\",\n        \"std\": 53.70247944492703,\n        \"min\": 0.39,\n        \"max\": 199.62,\n        \"num_unique_values\": 3347,\n        \"samples\": [\n          36.08,\n          123.87,\n          31.43\n        ],\n        \"semantic_type\": \"\",\n        \"description\": \"\"\n      }\n    },\n    {\n      \"column\": \"Low\",\n      \"properties\": {\n        \"dtype\": \"number\",\n        \"std\": 52.56591024193551,\n        \"min\": 0.38,\n        \"max\": 197.0,\n        \"num_unique_values\": 3345,\n        \"samples\": [\n          19.06,\n          52.31,\n          29.13\n        ],\n        \"semantic_type\": \"\",\n        \"description\": \"\"\n      }\n    },\n    {\n      \"column\": \"Open\",\n      \"properties\": {\n        \"dtype\": \"number\",\n        \"std\": 53.111254552562265,\n        \"min\": 0.38,\n        \"max\": 198.02,\n        \"num_unique_values\": 3336,\n        \"samples\": [\n          5.18,\n          142.19,\n          11.61\n        ],\n        \"semantic_type\": \"\",\n        \"description\": \"\"\n      }\n    },\n    {\n      \"column\": \"Volume\",\n      \"properties\": {\n        \"dtype\": \"number\",\n        \"std\": 396875458,\n        \"min\": 24048300,\n        \"max\": 3372969600,\n        \"num_unique_values\": 5016,\n        \"samples\": [\n          337377600,\n          145516400,\n          85553200\n        ],\n        \"semantic_type\": \"\",\n        \"description\": \"\"\n      }\n    }\n  ]\n}"
            }
          },
          "metadata": {},
          "execution_count": 7
        }
      ],
      "source": [
        "data = data.round(2)\n",
        "data.head(5)"
      ]
    },
    {
      "cell_type": "markdown",
      "metadata": {
        "id": "5sHkZYMRSoPE"
      },
      "source": [
        "## Adding Columns"
      ]
    },
    {
      "cell_type": "markdown",
      "metadata": {
        "id": "cDFVMpV7PDJ-"
      },
      "source": [
        "#### Feature Engineering"
      ]
    },
    {
      "cell_type": "code",
      "execution_count": 8,
      "metadata": {
        "id": "5EyEaLvJScPt"
      },
      "outputs": [],
      "source": [
        "\n",
        "# Time-Based Features\n",
        "data['DayofWeek'] = data.index.dayofweek\n",
        "data['Month'] = data.index.month\n",
        "data['Quarter'] = data.index.quarter\n",
        "\n",
        "# Lagged Features (previous day's values)\n",
        "data['Close_Lag1'] = data['Close'].shift(1)\n",
        "data['Volume_Lag1'] = data['Volume'].shift(1)\n",
        "\n",
        "\n",
        "data['Price Change %'] = data['Close'].pct_change() * 100\n",
        "data['Volatility_20'] = data['Close'].rolling(window=20).std()\n",
        "data['SMA_50'] = data['Close'].rolling(window=50).mean()\n",
        "data['EMA_50'] = data['Close'].ewm(span=50, adjust=False).mean()\n",
        "\n",
        "# Interaction Features\n",
        "data['Close_Volatility'] = data['Close'] * data['Volatility_20']\n",
        "\n",
        "\n",
        "\n",
        "if isinstance(data.columns, pd.MultiIndex):\n",
        "\n",
        "    data.columns = data.columns.droplevel(0)\n",
        "\n",
        "    data.columns = ['adj Close', 'Close', 'High', 'Low', 'Open', 'Volume','Price Change %', 'Volatility_20', 'SMA_50', 'EMA_50']\n",
        "\n",
        "\n",
        "\n",
        "data = data.round(2)\n",
        "\n",
        "\n"
      ]
    },
    {
      "cell_type": "code",
      "execution_count": 9,
      "metadata": {
        "id": "ZXh3CRZgmDp_"
      },
      "outputs": [],
      "source": [
        "data.to_csv('AAPL_stock_data.csv')"
      ]
    },
    {
      "cell_type": "markdown",
      "metadata": {
        "id": "XuPt8sGLVXuH"
      },
      "source": [
        "## Data Processing"
      ]
    },
    {
      "cell_type": "code",
      "execution_count": null,
      "metadata": {
        "id": "jWZBg03SVeDG"
      },
      "outputs": [],
      "source": [
        "import pandas as pd\n",
        "\n",
        "data = pd.read_csv('AAPL_stock_data.csv', header=0, parse_dates=['Date'], index_col='Date')\n",
        "\n",
        "data = data.bfill()\n",
        "\n",
        "\n",
        "\n",
        "print(f\"Data Info:\\n {data.info}\")\n",
        "print(f\"Sum of null data:\\n {data.isnull().sum()}\")\n",
        "\n",
        "\n",
        "\n",
        "\n"
      ]
    },
    {
      "cell_type": "code",
      "execution_count": null,
      "metadata": {
        "id": "ixu9CvxDkWJS"
      },
      "outputs": [],
      "source": [
        "data.tail(5)"
      ]
    },
    {
      "cell_type": "markdown",
      "metadata": {
        "id": "mkHXWR2KWcxf"
      },
      "source": [
        "## Visualizing Data"
      ]
    },
    {
      "cell_type": "markdown",
      "metadata": {
        "id": "x2jeo7Q8XJZk"
      },
      "source": [
        "## Model Building"
      ]
    },
    {
      "cell_type": "markdown",
      "source": [
        "#### Normalize the features"
      ],
      "metadata": {
        "id": "fQecyuXtxPSv"
      }
    },
    {
      "cell_type": "code",
      "source": [
        "\n",
        "import pandas as pd\n",
        "from sklearn.model_selection import train_test_split\n",
        "from sklearn.preprocessing import MinMaxScaler\n",
        "\n",
        "# Select the input features and target variable (e.g., 'Close' price)\n",
        "features = data.columns[data.columns != 'Close']  # Exclude the target column 'Close'\n",
        "X = data[features].values  # Feature set (all columns except 'Close')\n",
        "y = data['Close'].values  # Target variable ('Close' price)\n",
        "\n",
        "# Train-test split (no shuffling as this is time-series data)\n",
        "X_train, X_test, y_train, y_test = train_test_split(X, y, test_size=0.2, shuffle=False)\n",
        "\n",
        "# Normalize the features (train set first, then test set)\n",
        "scaler = MinMaxScaler(feature_range=(0, 1))\n",
        "\n",
        "# Normalize the training data\n",
        "X_train = scaler.fit_transform(X_train)\n",
        "\n",
        "# Normalize the test data using the same scaler\n",
        "X_test = scaler.transform(X_test)\n",
        "\n"
      ],
      "metadata": {
        "id": "rMQF_kXV_KFF"
      },
      "execution_count": 12,
      "outputs": []
    },
    {
      "cell_type": "code",
      "source": [
        "# Normalize the target variable (y_train and y_test)\n",
        "target_scaler = MinMaxScaler(feature_range=(0, 1))\n",
        "\n",
        "# Fit and transform the training target variable\n",
        "y_train = target_scaler.fit_transform(y_train.reshape(-1, 1))\n",
        "\n",
        "# Transform the test target variable using the same scaler\n",
        "y_test = target_scaler.transform(y_test.reshape(-1, 1))\n"
      ],
      "metadata": {
        "id": "wdt_VMMsDbgD"
      },
      "execution_count": 13,
      "outputs": []
    },
    {
      "cell_type": "markdown",
      "source": [
        "#### Model Definition"
      ],
      "metadata": {
        "id": "SSGuYUPdASZa"
      }
    },
    {
      "cell_type": "code",
      "source": [
        "\n",
        "import torch\n",
        "import torch.nn as nn\n",
        "\n",
        "class ReformerStockModel(nn.Module):\n",
        "    def __init__(self, input_size, hidden_size, num_classes):\n",
        "        super(ReformerStockModel, self).__init__()\n",
        "        self.fc1 = nn.Linear(input_size, hidden_size)\n",
        "        self.fc2 = nn.Linear(hidden_size, num_classes)\n",
        "        self.fc3 = nn.Linear(hidden_size, hidden_size)\n",
        "\n",
        "\n",
        "\n",
        "    def forward(self, x):\n",
        "        x = torch.relu(self.fc1(x))  # ReLU activation after the first layer\n",
        "        x = self.fc2(x)\n",
        "        return x\n",
        "\n",
        "# Define model, optimizer, and loss function\n",
        "input_size = X_train.shape[1]\n",
        "hidden_size = 128\n",
        "num_classes = 1\n",
        "model = ReformerStockModel(input_size, hidden_size, num_classes)\n",
        "\n",
        "optimizer = torch.optim.Adam(model.parameters(), lr=1e-3)\n",
        "criterion = nn.MSELoss()\n"
      ],
      "metadata": {
        "id": "MooNm-iuAV2H"
      },
      "execution_count": 32,
      "outputs": []
    },
    {
      "cell_type": "markdown",
      "source": [
        "#### Model Training"
      ],
      "metadata": {
        "id": "XXGLLAt7Aehm"
      }
    },
    {
      "cell_type": "code",
      "source": [
        "import torch\n",
        "import torch.nn as nn\n",
        "import torch.optim as optim\n",
        "import matplotlib.pyplot as plt\n",
        "\n",
        "# Define a simple model for regression\n",
        "class ReformerStockModel(nn.Module):\n",
        "    def __init__(self, input_size, hidden_size, num_classes):\n",
        "        super(ReformerStockModel, self).__init__()\n",
        "        self.fc1 = nn.Linear(input_size, hidden_size)  # First fully connected layer\n",
        "        self.fc2 = nn.Linear(hidden_size, num_classes)  # Output layer\n",
        "\n",
        "    def forward(self, x):\n",
        "        x = torch.relu(self.fc1(x))  # ReLU activation after the first layer\n",
        "        x = self.fc2(x)  # Output layer\n",
        "        return x\n",
        "\n",
        "# Define model, optimizer, and loss function\n",
        "input_size = X_train.shape[1]\n",
        "hidden_size = 128\n",
        "num_classes = 1\n",
        "model = ReformerStockModel(input_size, hidden_size, num_classes)\n",
        "\n",
        "optimizer = optim.Adam(model.parameters(), lr=1e-3)\n",
        "criterion = nn.MSELoss()\n",
        "\n",
        "# Convert the data to PyTorch tensors\n",
        "X_train_tensor = torch.tensor(X_train, dtype=torch.float32)\n",
        "y_train_tensor = torch.tensor(y_train, dtype=torch.float32).view(-1, 1)\n",
        "\n",
        "X_test_tensor = torch.tensor(X_test, dtype=torch.float32)\n",
        "y_test_tensor = torch.tensor(y_test, dtype=torch.float32).view(-1, 1)\n",
        "\n",
        "# Initialize lists to store loss values for plotting\n",
        "train_losses = []\n",
        "val_losses = []\n",
        "\n",
        "# Training loop\n",
        "num_epochs = 100\n",
        "for epoch in range(num_epochs):\n",
        "    model.train()\n",
        "\n",
        "    # Forward pass for training\n",
        "    outputs = model(X_train_tensor)  # Get predictions\n",
        "    train_loss = criterion(outputs, y_train_tensor)\n",
        "\n",
        "    # Backward pass and optimization\n",
        "    optimizer.zero_grad()\n",
        "    train_loss.backward()\n",
        "    optimizer.step()\n",
        "\n",
        "    # Validation loss calculation\n",
        "    model.eval()\n",
        "    with torch.no_grad():\n",
        "        val_outputs = model(X_test_tensor)\n",
        "        val_loss = criterion(val_outputs, y_test_tensor)\n",
        "\n",
        "    # Store losses for plotting\n",
        "    train_losses.append(train_loss.item())\n",
        "    val_losses.append(val_loss.item())\n",
        "\n",
        "    # Print loss every epoch\n",
        "    if (epoch + 1) % 1 == 0:\n",
        "        print(f\"Epoch [{epoch+1}/{num_epochs}], Loss: {train_loss.item():.4f}\")\n",
        "\n",
        "# Plot the training and validation losses\n",
        "plt.figure(figsize=(10, 6))\n",
        "plt.plot(range(1, num_epochs+1), train_losses, label='Training Loss', color='blue')\n",
        "plt.plot(range(1, num_epochs+1), val_losses, label='Validation Loss', color='red')\n",
        "plt.xlabel('Epochs')\n",
        "plt.ylabel('Loss')\n",
        "plt.title('Training and Validation Loss Over Epochs')\n",
        "plt.legend()\n",
        "plt.grid(True)\n",
        "plt.show()\n",
        "\n",
        "# Evaluation\n",
        "model.eval()\n",
        "with torch.no_grad():\n",
        "    predictions = model(X_test_tensor)\n",
        "    test_loss = criterion(predictions, y_test_tensor)\n",
        "    test_mae = torch.mean(torch.abs(predictions - y_test_tensor))  # Calculate MAE for test data\n",
        "    print(f\"Test Loss: {test_loss.item():.4f}, Test MAE: {test_mae.item():.4f}\")\n",
        "\n"
      ],
      "metadata": {
        "colab": {
          "base_uri": "https://localhost:8080/",
          "height": 1000
        },
        "id": "Y3R-ex3aAhYj",
        "outputId": "3249c0cc-51b8-431f-ec93-6b49b92564ad"
      },
      "execution_count": 38,
      "outputs": [
        {
          "output_type": "stream",
          "name": "stdout",
          "text": [
            "Epoch [1/100], Loss: 0.0599\n",
            "Epoch [2/100], Loss: 0.0500\n",
            "Epoch [3/100], Loss: 0.0416\n",
            "Epoch [4/100], Loss: 0.0346\n",
            "Epoch [5/100], Loss: 0.0290\n",
            "Epoch [6/100], Loss: 0.0245\n",
            "Epoch [7/100], Loss: 0.0211\n",
            "Epoch [8/100], Loss: 0.0184\n",
            "Epoch [9/100], Loss: 0.0164\n",
            "Epoch [10/100], Loss: 0.0148\n",
            "Epoch [11/100], Loss: 0.0133\n",
            "Epoch [12/100], Loss: 0.0120\n",
            "Epoch [13/100], Loss: 0.0106\n",
            "Epoch [14/100], Loss: 0.0092\n",
            "Epoch [15/100], Loss: 0.0077\n",
            "Epoch [16/100], Loss: 0.0063\n",
            "Epoch [17/100], Loss: 0.0049\n",
            "Epoch [18/100], Loss: 0.0037\n",
            "Epoch [19/100], Loss: 0.0028\n",
            "Epoch [20/100], Loss: 0.0020\n",
            "Epoch [21/100], Loss: 0.0015\n",
            "Epoch [22/100], Loss: 0.0013\n",
            "Epoch [23/100], Loss: 0.0013\n",
            "Epoch [24/100], Loss: 0.0014\n",
            "Epoch [25/100], Loss: 0.0016\n",
            "Epoch [26/100], Loss: 0.0017\n",
            "Epoch [27/100], Loss: 0.0019\n",
            "Epoch [28/100], Loss: 0.0020\n",
            "Epoch [29/100], Loss: 0.0020\n",
            "Epoch [30/100], Loss: 0.0019\n",
            "Epoch [31/100], Loss: 0.0019\n",
            "Epoch [32/100], Loss: 0.0018\n",
            "Epoch [33/100], Loss: 0.0017\n",
            "Epoch [34/100], Loss: 0.0017\n",
            "Epoch [35/100], Loss: 0.0017\n",
            "Epoch [36/100], Loss: 0.0016\n",
            "Epoch [37/100], Loss: 0.0016\n",
            "Epoch [38/100], Loss: 0.0015\n",
            "Epoch [39/100], Loss: 0.0014\n",
            "Epoch [40/100], Loss: 0.0013\n",
            "Epoch [41/100], Loss: 0.0011\n",
            "Epoch [42/100], Loss: 0.0010\n",
            "Epoch [43/100], Loss: 0.0009\n",
            "Epoch [44/100], Loss: 0.0008\n",
            "Epoch [45/100], Loss: 0.0008\n",
            "Epoch [46/100], Loss: 0.0007\n",
            "Epoch [47/100], Loss: 0.0007\n",
            "Epoch [48/100], Loss: 0.0007\n",
            "Epoch [49/100], Loss: 0.0007\n",
            "Epoch [50/100], Loss: 0.0007\n",
            "Epoch [51/100], Loss: 0.0007\n",
            "Epoch [52/100], Loss: 0.0007\n",
            "Epoch [53/100], Loss: 0.0007\n",
            "Epoch [54/100], Loss: 0.0007\n",
            "Epoch [55/100], Loss: 0.0006\n",
            "Epoch [56/100], Loss: 0.0006\n",
            "Epoch [57/100], Loss: 0.0006\n",
            "Epoch [58/100], Loss: 0.0006\n",
            "Epoch [59/100], Loss: 0.0006\n",
            "Epoch [60/100], Loss: 0.0006\n",
            "Epoch [61/100], Loss: 0.0006\n",
            "Epoch [62/100], Loss: 0.0005\n",
            "Epoch [63/100], Loss: 0.0005\n",
            "Epoch [64/100], Loss: 0.0005\n",
            "Epoch [65/100], Loss: 0.0005\n",
            "Epoch [66/100], Loss: 0.0005\n",
            "Epoch [67/100], Loss: 0.0004\n",
            "Epoch [68/100], Loss: 0.0004\n",
            "Epoch [69/100], Loss: 0.0004\n",
            "Epoch [70/100], Loss: 0.0004\n",
            "Epoch [71/100], Loss: 0.0004\n",
            "Epoch [72/100], Loss: 0.0004\n",
            "Epoch [73/100], Loss: 0.0004\n",
            "Epoch [74/100], Loss: 0.0004\n",
            "Epoch [75/100], Loss: 0.0004\n",
            "Epoch [76/100], Loss: 0.0003\n",
            "Epoch [77/100], Loss: 0.0003\n",
            "Epoch [78/100], Loss: 0.0003\n",
            "Epoch [79/100], Loss: 0.0003\n",
            "Epoch [80/100], Loss: 0.0003\n",
            "Epoch [81/100], Loss: 0.0003\n",
            "Epoch [82/100], Loss: 0.0003\n",
            "Epoch [83/100], Loss: 0.0003\n",
            "Epoch [84/100], Loss: 0.0003\n",
            "Epoch [85/100], Loss: 0.0003\n",
            "Epoch [86/100], Loss: 0.0003\n",
            "Epoch [87/100], Loss: 0.0003\n",
            "Epoch [88/100], Loss: 0.0003\n",
            "Epoch [89/100], Loss: 0.0002\n",
            "Epoch [90/100], Loss: 0.0002\n",
            "Epoch [91/100], Loss: 0.0002\n",
            "Epoch [92/100], Loss: 0.0002\n",
            "Epoch [93/100], Loss: 0.0002\n",
            "Epoch [94/100], Loss: 0.0002\n",
            "Epoch [95/100], Loss: 0.0002\n",
            "Epoch [96/100], Loss: 0.0002\n",
            "Epoch [97/100], Loss: 0.0002\n",
            "Epoch [98/100], Loss: 0.0002\n",
            "Epoch [99/100], Loss: 0.0002\n",
            "Epoch [100/100], Loss: 0.0002\n"
          ]
        },
        {
          "output_type": "display_data",
          "data": {
            "text/plain": [
              "<Figure size 1000x600 with 1 Axes>"
            ],
            "image/png": "[encoded data removed]"
          },
          "metadata": {}
        },
        {
          "output_type": "stream",
          "name": "stdout",
          "text": [
            "Test Loss: 0.0023, Test MAE: 0.0389\n"
          ]
        }
      ]
    },
    {
      "cell_type": "markdown",
      "metadata": {
        "id": "IO97QD361hy7"
      },
      "source": [
        "### Evaluate the Model"
      ]
    },
    {
      "cell_type": "code",
      "source": [
        "\n",
        "import torch\n",
        "import numpy as np\n",
        "from sklearn.metrics import mean_squared_error, mean_absolute_error, r2_score\n",
        "\n",
        "\n",
        "model.eval()\n",
        "with torch.no_grad():\n",
        "    # Get predictions for the test data\n",
        "    y_pred_tensor = model(X_test_tensor)\n",
        "\n",
        "# Convert predictions and actual values to NumPy arrays for sklearn metrics\n",
        "y_pred = y_pred_tensor.detach().numpy()\n",
        "y_test_actual = y_test_tensor.detach().numpy()\n",
        "\n",
        "\n",
        "# Calculate the metrics\n",
        "mse = mean_squared_error(y_test_actual, y_pred)\n",
        "mae = mean_absolute_error(y_test_actual, y_pred)\n",
        "rmse = np.sqrt(mse)\n",
        "r2 = r2_score(y_test_actual, y_pred)\n",
        "\n",
        "# Calculate MAPE (Mean Absolute Percentage Error)\n",
        "mape = np.mean(np.abs((y_test_actual - y_pred) / y_test_actual)) * 100\n",
        "\n",
        "# Print all the metrics\n",
        "print(f\"MSE: {mse}\")\n",
        "print(f\"MAE: {mae}\")\n",
        "print(f\"MAPE: {mape}%\")\n",
        "print(f\"RMSE: {rmse}\")\n",
        "print(f\"R-squared: {r2}\")\n",
        "\n"
      ],
      "metadata": {
        "colab": {
          "base_uri": "https://localhost:8080/"
        },
        "id": "oWyNej86D0Le",
        "outputId": "629f13b4-87b3-41f0-b7a9-f2cb9e237c71"
      },
      "execution_count": 39,
      "outputs": [
        {
          "output_type": "stream",
          "name": "stdout",
          "text": [
            "MSE: 0.0023255376145243645\n",
            "MAE: 0.03889698535203934\n",
            "MAPE: 2.09659393876791%\n",
            "RMSE: 0.04822382828565526\n",
            "R-squared: 0.9890087246894836\n"
          ]
        }
      ]
    },
    {
      "cell_type": "markdown",
      "source": [
        "##### Save the model"
      ],
      "metadata": {
        "id": "AkGFmnvC1_6c"
      }
    },
    {
      "cell_type": "code",
      "execution_count": 43,
      "metadata": {
        "id": "48CVwhqsRc6r"
      },
      "outputs": [],
      "source": [
        "torch.save(model.state_dict(), model_path)"
      ]
    },
    {
      "cell_type": "markdown",
      "source": [
        "##### Load the saved model"
      ],
      "metadata": {
        "id": "_RUEEwKN2K9x"
      }
    },
    {
      "cell_type": "code",
      "source": [
        "model = ReformerStockModel(input_size, hidden_size, num_classes)\n",
        "\n",
        "model.load_state_dict(torch.load('reformer_stock_model.pth'))\n",
        "\n",
        "model.eval()"
      ],
      "metadata": {
        "id": "8At2IlLtKpPB",
        "colab": {
          "base_uri": "https://localhost:8080/"
        },
        "outputId": "c8502d7c-dbe2-4c97-bf92-3f0f2cc8fc3c"
      },
      "execution_count": 44,
      "outputs": [
        {
          "output_type": "stream",
          "name": "stderr",
          "text": [
            "<ipython-input-44-a67b79450a3c>:3: FutureWarning: You are using `torch.load` with `weights_only=False` (the current default value), which uses the default pickle module implicitly. It is possible to construct malicious pickle data which will execute arbitrary code during unpickling (See https://github.com/pytorch/pytorch/blob/main/SECURITY.md#untrusted-models for more details). In a future release, the default value for `weights_only` will be flipped to `True`. This limits the functions that could be executed during unpickling. Arbitrary objects will no longer be allowed to be loaded via this mode unless they are explicitly allowlisted by the user via `torch.serialization.add_safe_globals`. We recommend you start setting `weights_only=True` for any use case where you don't have full control of the loaded file. Please open an issue on GitHub for any issues related to this experimental feature.\n",
            "  model.load_state_dict(torch.load('reformer_stock_model.pth'))\n"
          ]
        },
        {
          "output_type": "execute_result",
          "data": {
            "text/plain": [
              "ReformerStockModel(\n",
              "  (fc1): Linear(in_features=15, out_features=128, bias=True)\n",
              "  (fc2): Linear(in_features=128, out_features=1, bias=True)\n",
              ")"
            ]
          },
          "metadata": {},
          "execution_count": 44
        }
      ]
    },
    {
      "cell_type": "markdown",
      "source": [
        "#### Plot Predicted and Actual Prices"
      ],
      "metadata": {
        "id": "LrtZnQ9O2VPf"
      }
    },
    {
      "cell_type": "code",
      "execution_count": 40,
      "metadata": {
        "id": "CXN0EJ1j7YG_",
        "colab": {
          "base_uri": "https://localhost:8080/",
          "height": 564
        },
        "outputId": "268a9461-9f53-4388-d8fc-2496e1dcd138"
      },
      "outputs": [
        {
          "output_type": "display_data",
          "data": {
            "text/plain": [
              "<Figure size 1000x600 with 1 Axes>"
            ],
            "image/png": "[encoded data removed]"
          },
          "metadata": {}
        }
      ],
      "source": [
        "import matplotlib.pyplot as plt\n",
        "\n",
        "# Make predictions on the test set\n",
        "model.eval()\n",
        "with torch.no_grad():\n",
        "    predictions = model(X_test_tensor)\n",
        "\n",
        "# Convert predictions and actual values to numpy for easy plotting\n",
        "predicted_prices = predictions.numpy().flatten()\n",
        "actual_prices = y_test_tensor.numpy().flatten()\n",
        "\n",
        "# Plotting the actual vs predicted stock prices\n",
        "plt.figure(figsize=(10, 6))\n",
        "plt.plot(range(len(actual_prices)), actual_prices, label='Actual Price', color='blue')\n",
        "plt.plot(range(len(predicted_prices)), predicted_prices, label='Predicted Price', color='red')\n",
        "plt.xlabel('Index')\n",
        "plt.ylabel('Stock Price')\n",
        "plt.title('Actual vs Predicted Stock Prices')\n",
        "plt.legend()\n",
        "plt.grid(True)\n",
        "plt.show()\n"
      ]
    }
  ],
  "metadata": {
    "colab": {
      "provenance": [],
      "include_colab_link": true
    },
    "kernelspec": {
      "display_name": "Python 3",
      "name": "python3"
    },
    "language_info": {
      "name": "python"
    }
  },
  "nbformat": 4,
  "nbformat_minor": 0
}